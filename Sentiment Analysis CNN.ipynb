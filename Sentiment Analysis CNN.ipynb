{
 "cells": [
  {
   "cell_type": "markdown",
   "metadata": {},
   "source": [
    "# Sentiment Analysis using CNN"
   ]
  },
  {
   "cell_type": "code",
   "execution_count": 235,
   "metadata": {},
   "outputs": [],
   "source": [
    "import pandas as pd\n",
    "import numpy as np\n",
    "import json\n",
    "\n",
    "from collections import defaultdict\n",
    "from pandas.api.types import is_numeric_dtype\n",
    "\n",
    "import matplotlib.pyplot as plt\n",
    "import seaborn as sns\n",
    "%matplotlib inline\n",
    "\n",
    "import nltk\n",
    "from spacy.lang.en import English\n",
    "\n",
    "from nltk import word_tokenize\n",
    "import re\n",
    "from keras.preprocessing.text import Tokenizer\n",
    "from nltk.stem.porter import PorterStemmer\n",
    "import tensorflow as tf \n",
    "\n",
    "from bs4 import BeautifulSoup\n",
    "import re\n",
    "from nltk.corpus import stopwords\n",
    "from nltk.tokenize import word_tokenize\n",
    "from nltk.stem import WordNetLemmatizer\n",
    "lemmatizer = WordNetLemmatizer()\n",
    "\n",
    "import keras\n",
    "from keras.preprocessing.text import one_hot,Tokenizer\n",
    "from keras.preprocessing.sequence import pad_sequences\n",
    "from keras.models import Sequential\n",
    "from keras.layers import Dense , Flatten ,Embedding,Input,CuDNNLSTM,LSTM\n",
    "from keras.models import Model\n",
    "from keras.preprocessing.text import text_to_word_sequence\n",
    "\n",
    "import string\n",
    "from sklearn.preprocessing import LabelBinarizer\n",
    "from keras.preprocessing.sequence import pad_sequences\n",
    "\n",
    "#gensim w2v\n",
    "#word2vec\n",
    "import gensim\n",
    "from gensim.models import Word2Vec"
   ]
  },
  {
   "cell_type": "markdown",
   "metadata": {},
   "source": [
    "## Dataset"
   ]
  },
  {
   "cell_type": "code",
   "execution_count": 236,
   "metadata": {},
   "outputs": [
    {
     "name": "stdout",
     "output_type": "stream",
     "text": [
      "Review : \n",
      " I bought both boxed sets, books 1-5.  Really a great series!  Start book 1 three weeks ago and just finished book 5.  Sloane Monroe is a great character and being able to follow her through both private life and her PI life gets a reader very involved!  Although clues may be right in front of the reader, there are twists and turns that keep one guessing until the last page!  These are books you won't be disappointed with.\n",
      "Sentiment : POSITIVE\n"
     ]
    }
   ],
   "source": [
    "class Sentiment:\n",
    "    NEGATIVE = \"NEGATIVE\"\n",
    "    NEUTRAL = \"NEUTRAL\"\n",
    "    POSITIVE = \"POSITIVE\"\n",
    "\n",
    "class Review:\n",
    "    def __init__(self, text, score):\n",
    "        self.text = text\n",
    "        self.score = score\n",
    "        self.sentiment = self.get_sentiment()\n",
    "        \n",
    "    def get_sentiment(self):\n",
    "        if self.score <= 2:\n",
    "            return Sentiment.NEGATIVE\n",
    "        elif self.score == 3:\n",
    "            return Sentiment.NEUTRAL\n",
    "        else: #Score of 4 or 5\n",
    "            return Sentiment.POSITIVE\n",
    "        \n",
    "        \n",
    "file_name = '/Users/kritya/Downloads/Books_large.json'\n",
    "\n",
    "reviews = []\n",
    "with open(file_name) as f:\n",
    "    for line in f:\n",
    "        review = json.loads(line)\n",
    "        reviews.append(Review(review[\"reviewText\"], review[\"overall\"]))\n",
    "        \n",
    "print('Review : \\n', reviews[0].text)\n",
    "print('Sentiment :', reviews[0].sentiment)"
   ]
  },
  {
   "cell_type": "code",
   "execution_count": 237,
   "metadata": {},
   "outputs": [],
   "source": [
    "class ReviewContainer:\n",
    "    def __init__(self, reviews):\n",
    "        self.reviews = reviews\n",
    "        \n",
    "    def get_text(self):\n",
    "        return [x.text for x in self.reviews]\n",
    "    \n",
    "    def get_sentiment(self):\n",
    "        return [x.sentiment for x in self.reviews]\n",
    "    \n",
    "    def evenly_distribute(self):\n",
    "        negative = list(filter(lambda x: x.sentiment == Sentiment.NEGATIVE, self.reviews))\n",
    "        positive = list(filter(lambda x: x.sentiment == Sentiment.POSITIVE, self.reviews))\n",
    "        neutral = list(filter(lambda x: x.sentiment == Sentiment.NEUTRAL, self.reviews))\n",
    "        positive_shrunk = positive[:len(negative)]\n",
    "        neutral_shrunk = neutral[:len(negative)]\n",
    "        self.reviews = negative + positive_shrunk + neutral_shrunk\n",
    "        np.random.shuffle(self.reviews)"
   ]
  },
  {
   "cell_type": "code",
   "execution_count": 238,
   "metadata": {},
   "outputs": [],
   "source": [
    "reviews_container = ReviewContainer(reviews)\n",
    "\n",
    "#reviews_container.evenly_distribute()\n",
    "text = reviews_container.get_text()\n",
    "sentiment = reviews_container.get_sentiment()"
   ]
  },
  {
   "cell_type": "code",
   "execution_count": 239,
   "metadata": {},
   "outputs": [],
   "source": [
    "Dataset = pd.DataFrame({\n",
    "    'Reviews':text,\n",
    "    'Sentiment':sentiment\n",
    "})"
   ]
  },
  {
   "cell_type": "code",
   "execution_count": 240,
   "metadata": {},
   "outputs": [
    {
     "data": {
      "text/html": [
       "<div>\n",
       "<style scoped>\n",
       "    .dataframe tbody tr th:only-of-type {\n",
       "        vertical-align: middle;\n",
       "    }\n",
       "\n",
       "    .dataframe tbody tr th {\n",
       "        vertical-align: top;\n",
       "    }\n",
       "\n",
       "    .dataframe thead th {\n",
       "        text-align: right;\n",
       "    }\n",
       "</style>\n",
       "<table border=\"1\" class=\"dataframe\">\n",
       "  <thead>\n",
       "    <tr style=\"text-align: right;\">\n",
       "      <th></th>\n",
       "      <th>Reviews</th>\n",
       "      <th>Sentiment</th>\n",
       "    </tr>\n",
       "  </thead>\n",
       "  <tbody>\n",
       "    <tr>\n",
       "      <th>0</th>\n",
       "      <td>I bought both boxed sets, books 1-5.  Really a...</td>\n",
       "      <td>POSITIVE</td>\n",
       "    </tr>\n",
       "    <tr>\n",
       "      <th>1</th>\n",
       "      <td>I enjoyed this short book. But it was way way ...</td>\n",
       "      <td>NEUTRAL</td>\n",
       "    </tr>\n",
       "    <tr>\n",
       "      <th>2</th>\n",
       "      <td>I love Nicholas Sparks. I&amp;#8217;ve read everyt...</td>\n",
       "      <td>POSITIVE</td>\n",
       "    </tr>\n",
       "    <tr>\n",
       "      <th>3</th>\n",
       "      <td>I really enjoyed this adventure and look forwa...</td>\n",
       "      <td>POSITIVE</td>\n",
       "    </tr>\n",
       "    <tr>\n",
       "      <th>4</th>\n",
       "      <td>It was a decent read.. typical story line. Not...</td>\n",
       "      <td>NEUTRAL</td>\n",
       "    </tr>\n",
       "    <tr>\n",
       "      <th>...</th>\n",
       "      <td>...</td>\n",
       "      <td>...</td>\n",
       "    </tr>\n",
       "    <tr>\n",
       "      <th>9995</th>\n",
       "      <td>The whole series was great!  Melody is a fanta...</td>\n",
       "      <td>POSITIVE</td>\n",
       "    </tr>\n",
       "    <tr>\n",
       "      <th>9996</th>\n",
       "      <td>I didn't thing that much of this book.  I am a...</td>\n",
       "      <td>NEUTRAL</td>\n",
       "    </tr>\n",
       "    <tr>\n",
       "      <th>9997</th>\n",
       "      <td>It is an emotional TRIP to the past with Trip ...</td>\n",
       "      <td>POSITIVE</td>\n",
       "    </tr>\n",
       "    <tr>\n",
       "      <th>9998</th>\n",
       "      <td>This definitely got under my veins whereby I h...</td>\n",
       "      <td>POSITIVE</td>\n",
       "    </tr>\n",
       "    <tr>\n",
       "      <th>9999</th>\n",
       "      <td>Highly recommend this entire trilogy. It is ve...</td>\n",
       "      <td>POSITIVE</td>\n",
       "    </tr>\n",
       "  </tbody>\n",
       "</table>\n",
       "<p>10000 rows × 2 columns</p>\n",
       "</div>"
      ],
      "text/plain": [
       "                                                Reviews Sentiment\n",
       "0     I bought both boxed sets, books 1-5.  Really a...  POSITIVE\n",
       "1     I enjoyed this short book. But it was way way ...   NEUTRAL\n",
       "2     I love Nicholas Sparks. I&#8217;ve read everyt...  POSITIVE\n",
       "3     I really enjoyed this adventure and look forwa...  POSITIVE\n",
       "4     It was a decent read.. typical story line. Not...   NEUTRAL\n",
       "...                                                 ...       ...\n",
       "9995  The whole series was great!  Melody is a fanta...  POSITIVE\n",
       "9996  I didn't thing that much of this book.  I am a...   NEUTRAL\n",
       "9997  It is an emotional TRIP to the past with Trip ...  POSITIVE\n",
       "9998  This definitely got under my veins whereby I h...  POSITIVE\n",
       "9999  Highly recommend this entire trilogy. It is ve...  POSITIVE\n",
       "\n",
       "[10000 rows x 2 columns]"
      ]
     },
     "execution_count": 240,
     "metadata": {},
     "output_type": "execute_result"
    }
   ],
   "source": [
    "Dataset"
   ]
  },
  {
   "cell_type": "code",
   "execution_count": null,
   "metadata": {},
   "outputs": [],
   "source": []
  },
  {
   "cell_type": "markdown",
   "metadata": {},
   "source": [
    "# "
   ]
  },
  {
   "cell_type": "markdown",
   "metadata": {},
   "source": [
    "# "
   ]
  },
  {
   "cell_type": "markdown",
   "metadata": {},
   "source": [
    "# CNN with GloVe"
   ]
  },
  {
   "cell_type": "code",
   "execution_count": 356,
   "metadata": {},
   "outputs": [
    {
     "data": {
      "text/html": [
       "<div>\n",
       "<style scoped>\n",
       "    .dataframe tbody tr th:only-of-type {\n",
       "        vertical-align: middle;\n",
       "    }\n",
       "\n",
       "    .dataframe tbody tr th {\n",
       "        vertical-align: top;\n",
       "    }\n",
       "\n",
       "    .dataframe thead th {\n",
       "        text-align: right;\n",
       "    }\n",
       "</style>\n",
       "<table border=\"1\" class=\"dataframe\">\n",
       "  <thead>\n",
       "    <tr style=\"text-align: right;\">\n",
       "      <th></th>\n",
       "      <th>Reviews</th>\n",
       "      <th>Sentiment</th>\n",
       "      <th>clean_review</th>\n",
       "      <th>Label</th>\n",
       "    </tr>\n",
       "  </thead>\n",
       "  <tbody>\n",
       "    <tr>\n",
       "      <th>0</th>\n",
       "      <td>I bought both boxed sets, books 1-5.  Really a...</td>\n",
       "      <td>POSITIVE</td>\n",
       "      <td>bought boxed set book really great series star...</td>\n",
       "      <td>2</td>\n",
       "    </tr>\n",
       "    <tr>\n",
       "      <th>1</th>\n",
       "      <td>I enjoyed this short book. But it was way way ...</td>\n",
       "      <td>NEUTRAL</td>\n",
       "      <td>enjoyed short book way way short see easily wo...</td>\n",
       "      <td>1</td>\n",
       "    </tr>\n",
       "    <tr>\n",
       "      <th>2</th>\n",
       "      <td>I love Nicholas Sparks. I&amp;#8217;ve read everyt...</td>\n",
       "      <td>POSITIVE</td>\n",
       "      <td>love nicholas spark read everything written wa...</td>\n",
       "      <td>2</td>\n",
       "    </tr>\n",
       "    <tr>\n",
       "      <th>3</th>\n",
       "      <td>I really enjoyed this adventure and look forwa...</td>\n",
       "      <td>POSITIVE</td>\n",
       "      <td>really enjoyed adventure look forward reading ...</td>\n",
       "      <td>2</td>\n",
       "    </tr>\n",
       "    <tr>\n",
       "      <th>4</th>\n",
       "      <td>It was a decent read.. typical story line. Not...</td>\n",
       "      <td>NEUTRAL</td>\n",
       "      <td>decent read typical story line nothing unsavor...</td>\n",
       "      <td>1</td>\n",
       "    </tr>\n",
       "    <tr>\n",
       "      <th>...</th>\n",
       "      <td>...</td>\n",
       "      <td>...</td>\n",
       "      <td>...</td>\n",
       "      <td>...</td>\n",
       "    </tr>\n",
       "    <tr>\n",
       "      <th>9995</th>\n",
       "      <td>The whole series was great!  Melody is a fanta...</td>\n",
       "      <td>POSITIVE</td>\n",
       "      <td>whole series great melody fantastic writer kee...</td>\n",
       "      <td>2</td>\n",
       "    </tr>\n",
       "    <tr>\n",
       "      <th>9996</th>\n",
       "      <td>I didn't thing that much of this book.  I am a...</td>\n",
       "      <td>NEUTRAL</td>\n",
       "      <td>thing much book boater lot going boat seem rea...</td>\n",
       "      <td>1</td>\n",
       "    </tr>\n",
       "    <tr>\n",
       "      <th>9997</th>\n",
       "      <td>It is an emotional TRIP to the past with Trip ...</td>\n",
       "      <td>POSITIVE</td>\n",
       "      <td>emotional trip past trip layla love ease writi...</td>\n",
       "      <td>2</td>\n",
       "    </tr>\n",
       "    <tr>\n",
       "      <th>9998</th>\n",
       "      <td>This definitely got under my veins whereby I h...</td>\n",
       "      <td>POSITIVE</td>\n",
       "      <td>definitely got vein whereby purchase related b...</td>\n",
       "      <td>2</td>\n",
       "    </tr>\n",
       "    <tr>\n",
       "      <th>9999</th>\n",
       "      <td>Highly recommend this entire trilogy. It is ve...</td>\n",
       "      <td>POSITIVE</td>\n",
       "      <td>highly recommend entire trilogy well written h...</td>\n",
       "      <td>2</td>\n",
       "    </tr>\n",
       "  </tbody>\n",
       "</table>\n",
       "<p>10000 rows × 4 columns</p>\n",
       "</div>"
      ],
      "text/plain": [
       "                                                Reviews Sentiment  \\\n",
       "0     I bought both boxed sets, books 1-5.  Really a...  POSITIVE   \n",
       "1     I enjoyed this short book. But it was way way ...   NEUTRAL   \n",
       "2     I love Nicholas Sparks. I&#8217;ve read everyt...  POSITIVE   \n",
       "3     I really enjoyed this adventure and look forwa...  POSITIVE   \n",
       "4     It was a decent read.. typical story line. Not...   NEUTRAL   \n",
       "...                                                 ...       ...   \n",
       "9995  The whole series was great!  Melody is a fanta...  POSITIVE   \n",
       "9996  I didn't thing that much of this book.  I am a...   NEUTRAL   \n",
       "9997  It is an emotional TRIP to the past with Trip ...  POSITIVE   \n",
       "9998  This definitely got under my veins whereby I h...  POSITIVE   \n",
       "9999  Highly recommend this entire trilogy. It is ve...  POSITIVE   \n",
       "\n",
       "                                           clean_review  Label  \n",
       "0     bought boxed set book really great series star...      2  \n",
       "1     enjoyed short book way way short see easily wo...      1  \n",
       "2     love nicholas spark read everything written wa...      2  \n",
       "3     really enjoyed adventure look forward reading ...      2  \n",
       "4     decent read typical story line nothing unsavor...      1  \n",
       "...                                                 ...    ...  \n",
       "9995  whole series great melody fantastic writer kee...      2  \n",
       "9996  thing much book boater lot going boat seem rea...      1  \n",
       "9997  emotional trip past trip layla love ease writi...      2  \n",
       "9998  definitely got vein whereby purchase related b...      2  \n",
       "9999  highly recommend entire trilogy well written h...      2  \n",
       "\n",
       "[10000 rows x 4 columns]"
      ]
     },
     "execution_count": 356,
     "metadata": {},
     "output_type": "execute_result"
    }
   ],
   "source": [
    "Dataset"
   ]
  },
  {
   "cell_type": "code",
   "execution_count": 357,
   "metadata": {},
   "outputs": [
    {
     "name": "stdout",
     "output_type": "stream",
     "text": [
      "train: 6000 (0.60)\n",
      "val: 2000 (0.20)\n",
      "test: 2000 (0.20)\n"
     ]
    }
   ],
   "source": [
    "from sklearn.model_selection import train_test_split\n",
    "\n",
    "train_size = 0.60\n",
    "val_size = 0.20\n",
    "test_size = 0.20\n",
    "\n",
    "X = Dataset['Reviews']\n",
    "y = Dataset['Label']\n",
    "\n",
    "# Split (train)\n",
    "X_train, X_, y_train, y_ = train_test_split(X, y, train_size=train_size)\n",
    "# Split (test and val)\n",
    "X_val, X_test, y_val, y_test = train_test_split(X_, y_, train_size=0.5, random_state = 45)\n",
    "\n",
    "print(f\"train: {len(X_train)} ({len(X_train)/len(X):.2f})\\n\"\n",
    "      f\"val: {len(X_val)} ({len(X_val)/len(X):.2f})\\n\"\n",
    "      f\"test: {len(X_test)} ({len(X_test)/len(X):.2f})\")"
   ]
  },
  {
   "cell_type": "code",
   "execution_count": 358,
   "metadata": {},
   "outputs": [
    {
     "name": "stdout",
     "output_type": "stream",
     "text": [
      "476\n"
     ]
    }
   ],
   "source": [
    "# max length of review calculation\n",
    "maxi=-1\n",
    "for i,rev in enumerate(Dataset['clean_review']):\n",
    "    tokens=rev.split()\n",
    "    if(len(tokens)>maxi):\n",
    "        maxi=len(tokens)\n",
    "print(maxi)"
   ]
  },
  {
   "cell_type": "code",
   "execution_count": 359,
   "metadata": {},
   "outputs": [],
   "source": [
    "#Tokenize\n",
    "from keras.preprocessing.text import Tokenizer\n",
    "\n",
    "tok = Tokenizer()\n",
    "tok.fit_on_texts(Dataset['clean_review'])\n",
    "words_to_index = tok.word_index\n",
    "encd_rev = tok.texts_to_sequences(Dataset['clean_review'])"
   ]
  },
  {
   "cell_type": "code",
   "execution_count": 360,
   "metadata": {},
   "outputs": [
    {
     "data": {
      "text/plain": [
       "27364"
      ]
     },
     "execution_count": 360,
     "metadata": {},
     "output_type": "execute_result"
    }
   ],
   "source": [
    "len(words_to_index)"
   ]
  },
  {
   "cell_type": "code",
   "execution_count": 361,
   "metadata": {},
   "outputs": [],
   "source": [
    "max_rev_len=476  # max lenght of a review\n",
    "vocab_size = len(tok.word_index) + 1  # total no of words\n",
    "embed_dim=50"
   ]
  },
  {
   "cell_type": "code",
   "execution_count": 362,
   "metadata": {},
   "outputs": [
    {
     "data": {
      "text/plain": [
       "(10000, 476)"
      ]
     },
     "execution_count": 362,
     "metadata": {},
     "output_type": "execute_result"
    }
   ],
   "source": [
    "from keras.preprocessing.sequence import pad_sequences\n",
    "pad_rev= pad_sequences(encd_rev, maxlen=max_rev_len, padding='post')\n",
    "pad_rev.shape "
   ]
  },
  {
   "cell_type": "code",
   "execution_count": 363,
   "metadata": {},
   "outputs": [],
   "source": [
    "# GloVe\n",
    "\n",
    "def read_glove_vector(glove_vec):\n",
    "    with open(glove_vec, 'r', encoding='UTF-8') as f:\n",
    "        words = set()\n",
    "        word_to_vec_map = {}\n",
    "        for line in f:\n",
    "            w_line = line.split()\n",
    "            curr_word = w_line[0]\n",
    "            word_to_vec_map[curr_word] = np.array(w_line[1:], dtype=np.float64)\n",
    "    return word_to_vec_map"
   ]
  },
  {
   "cell_type": "code",
   "execution_count": 364,
   "metadata": {},
   "outputs": [],
   "source": [
    "word_to_vec_map = read_glove_vector('/Users/kritya/Downloads/glove/glove.6B.50d.txt')"
   ]
  },
  {
   "cell_type": "code",
   "execution_count": 365,
   "metadata": {},
   "outputs": [],
   "source": [
    "maxLen = max_rev_len"
   ]
  },
  {
   "cell_type": "code",
   "execution_count": 366,
   "metadata": {},
   "outputs": [],
   "source": [
    "from keras.layers import LSTM, Activation, Dropout, Dense, Input, Conv1D, MaxPooling1D, GlobalMaxPooling1D\n",
    "from keras.layers.embeddings import Embedding\n",
    "from keras.models import Model\n",
    "import string\n",
    "from sklearn.preprocessing import LabelBinarizer\n",
    "from keras.preprocessing.sequence import pad_sequences\n",
    "import keras\n",
    "from sklearn.model_selection import train_test_split"
   ]
  },
  {
   "cell_type": "code",
   "execution_count": 367,
   "metadata": {},
   "outputs": [],
   "source": [
    "vocab_len = len(words_to_index)+1\n",
    "embed_vector_len = word_to_vec_map['moon'].shape[0]\n",
    "\n",
    "emb_matrix = np.zeros((vocab_len, embed_vector_len))\n",
    "\n",
    "for word, index in words_to_index.items():\n",
    "    embedding_vector = word_to_vec_map.get(word)\n",
    "    if embedding_vector is not None:\n",
    "        emb_matrix[index, :] = embedding_vector\n",
    "\n",
    "embedding_layer = Embedding(input_dim=vocab_len, output_dim=embed_vector_len, input_length=maxLen, weights = [emb_matrix], trainable=False)"
   ]
  },
  {
   "cell_type": "code",
   "execution_count": 368,
   "metadata": {},
   "outputs": [],
   "source": [
    "def conv1d_model_glove(input_shape):\n",
    "\n",
    "    X_indices = Input(input_shape)\n",
    "\n",
    "    embeddings = embedding_layer(X_indices)\n",
    "\n",
    "    X = Conv1D(512,1,activation='relu')(embeddings)\n",
    "  \n",
    "    X = MaxPooling1D(1)(X)\n",
    "\n",
    "    X = Conv1D(256,1,activation='relu')(X)\n",
    "  \n",
    "    X = MaxPooling1D(1)(X)\n",
    "\n",
    "    X = Conv1D(256,1,activation='relu')(X)\n",
    "    X = Dropout(0.8)(X)\n",
    "    X = MaxPooling1D(1)(X)\n",
    "\n",
    "    X = GlobalMaxPooling1D()(X)\n",
    "\n",
    "    X = Dense(256, activation='relu')(X)\n",
    "    X = Dense(3, activation='sigmoid')(X)\n",
    "\n",
    "    model = Model(inputs=X_indices, outputs=X)\n",
    "\n",
    "    return model"
   ]
  },
  {
   "cell_type": "code",
   "execution_count": 369,
   "metadata": {},
   "outputs": [
    {
     "name": "stdout",
     "output_type": "stream",
     "text": [
      "Model: \"model_25\"\n",
      "_________________________________________________________________\n",
      " Layer (type)                Output Shape              Param #   \n",
      "=================================================================\n",
      " input_32 (InputLayer)       [(None, 476)]             0         \n",
      "                                                                 \n",
      " embedding_18 (Embedding)    (None, 476, 50)           1368250   \n",
      "                                                                 \n",
      " conv1d_65 (Conv1D)          (None, 476, 512)          26112     \n",
      "                                                                 \n",
      " max_pooling1d_41 (MaxPoolin  (None, 476, 512)         0         \n",
      " g1D)                                                            \n",
      "                                                                 \n",
      " conv1d_66 (Conv1D)          (None, 476, 256)          131328    \n",
      "                                                                 \n",
      " max_pooling1d_42 (MaxPoolin  (None, 476, 256)         0         \n",
      " g1D)                                                            \n",
      "                                                                 \n",
      " conv1d_67 (Conv1D)          (None, 476, 256)          65792     \n",
      "                                                                 \n",
      " dropout_84 (Dropout)        (None, 476, 256)          0         \n",
      "                                                                 \n",
      " max_pooling1d_43 (MaxPoolin  (None, 476, 256)         0         \n",
      " g1D)                                                            \n",
      "                                                                 \n",
      " global_max_pooling1d_9 (Glo  (None, 256)              0         \n",
      " balMaxPooling1D)                                                \n",
      "                                                                 \n",
      " dense_61 (Dense)            (None, 256)               65792     \n",
      "                                                                 \n",
      " dense_62 (Dense)            (None, 3)                 771       \n",
      "                                                                 \n",
      "=================================================================\n",
      "Total params: 1,658,045\n",
      "Trainable params: 289,795\n",
      "Non-trainable params: 1,368,250\n",
      "_________________________________________________________________\n"
     ]
    }
   ],
   "source": [
    "model_glove = conv1d_model_glove((maxLen,))\n",
    "model_glove.summary()"
   ]
  },
  {
   "cell_type": "code",
   "execution_count": 370,
   "metadata": {},
   "outputs": [],
   "source": [
    "import tensorflow as tf \n",
    "adam = tf.optimizers.Adam(learning_rate = 0.0001)\n",
    "model_glove.compile(optimizer=adam, loss='sparse_categorical_crossentropy', metrics=['accuracy'])"
   ]
  },
  {
   "cell_type": "code",
   "execution_count": 371,
   "metadata": {},
   "outputs": [],
   "source": [
    "from keras.preprocessing.text import Tokenizer\n",
    "from keras.preprocessing import sequence\n",
    "tokenizer = Tokenizer()\n",
    "X_train_indices = tokenizer.texts_to_sequences(X_train)"
   ]
  },
  {
   "cell_type": "code",
   "execution_count": 372,
   "metadata": {},
   "outputs": [
    {
     "data": {
      "text/plain": [
       "(6000, 476)"
      ]
     },
     "execution_count": 372,
     "metadata": {},
     "output_type": "execute_result"
    }
   ],
   "source": [
    "X_train_indices = pad_sequences(X_train_indices, maxlen=maxLen)\n",
    "X_train_indices.shape"
   ]
  },
  {
   "cell_type": "code",
   "execution_count": null,
   "metadata": {},
   "outputs": [],
   "source": []
  },
  {
   "cell_type": "code",
   "execution_count": null,
   "metadata": {},
   "outputs": [],
   "source": []
  },
  {
   "cell_type": "code",
   "execution_count": 373,
   "metadata": {},
   "outputs": [
    {
     "name": "stdout",
     "output_type": "stream",
     "text": [
      "Epoch 1/10\n",
      "47/47 [==============================] - 48s 993ms/step - loss: 1.0964 - accuracy: 0.8165\n",
      "Epoch 2/10\n",
      "47/47 [==============================] - 47s 995ms/step - loss: 1.0917 - accuracy: 0.8342\n",
      "Epoch 3/10\n",
      "47/47 [==============================] - 50s 1s/step - loss: 1.0871 - accuracy: 0.8342\n",
      "Epoch 4/10\n",
      "47/47 [==============================] - 72s 2s/step - loss: 1.0825 - accuracy: 0.8342\n",
      "Epoch 5/10\n",
      "47/47 [==============================] - 54s 1s/step - loss: 1.0779 - accuracy: 0.8342\n",
      "Epoch 6/10\n",
      "47/47 [==============================] - 57s 1s/step - loss: 1.0733 - accuracy: 0.8342\n",
      "Epoch 7/10\n",
      "47/47 [==============================] - 60s 1s/step - loss: 1.0688 - accuracy: 0.8342\n",
      "Epoch 8/10\n",
      "47/47 [==============================] - 61s 1s/step - loss: 1.0643 - accuracy: 0.8342\n",
      "Epoch 9/10\n",
      "47/47 [==============================] - 62s 1s/step - loss: 1.0599 - accuracy: 0.8342\n",
      "Epoch 10/10\n",
      "47/47 [==============================] - 65s 1s/step - loss: 1.0554 - accuracy: 0.8342\n",
      "CPU times: user 54min 38s, sys: 42min 3s, total: 1h 36min 41s\n",
      "Wall time: 9min 36s\n"
     ]
    }
   ],
   "source": [
    "%%time\n",
    "\n",
    "Glove_hist = model_glove.fit(X_train_indices, y_train, batch_size=128, epochs=10)"
   ]
  },
  {
   "cell_type": "code",
   "execution_count": 374,
   "metadata": {},
   "outputs": [],
   "source": [
    "X_test_indices = tokenizer.texts_to_sequences(X_test)\n",
    "\n",
    "X_test_indices = pad_sequences(X_test_indices, maxlen=maxLen, padding='post')"
   ]
  },
  {
   "cell_type": "code",
   "execution_count": 375,
   "metadata": {},
   "outputs": [
    {
     "name": "stdout",
     "output_type": "stream",
     "text": [
      "32/32 [==============================] - 4s 117ms/step\n",
      "              precision    recall  f1-score   support\n",
      "\n",
      "           0       0.00      0.00      0.00       116\n",
      "           1       0.00      0.00      0.00       189\n",
      "           2       0.85      1.00      0.92      1695\n",
      "\n",
      "    accuracy                           0.85      2000\n",
      "   macro avg       0.28      0.33      0.31      2000\n",
      "weighted avg       0.72      0.85      0.78      2000\n",
      "\n"
     ]
    },
    {
     "name": "stderr",
     "output_type": "stream",
     "text": [
      "/Users/kritya/opt/anaconda3/lib/python3.8/site-packages/sklearn/metrics/_classification.py:1221: UndefinedMetricWarning: Precision and F-score are ill-defined and being set to 0.0 in labels with no predicted samples. Use `zero_division` parameter to control this behavior.\n",
      "  _warn_prf(average, modifier, msg_start, len(result))\n"
     ]
    }
   ],
   "source": [
    "from sklearn.metrics import classification_report\n",
    "from sklearn.metrics import f1_score, precision_score, recall_score\n",
    "\n",
    "y_pred = model_glove.predict(X_test_indices, batch_size=64, verbose=1)\n",
    "y_pred_bool = np.argmax(y_pred, axis=1)\n",
    "\n",
    "print(classification_report(y_test, y_pred_bool))"
   ]
  },
  {
   "cell_type": "code",
   "execution_count": 376,
   "metadata": {},
   "outputs": [
    {
     "data": {
      "image/png": "[encoded data removed]",
      "text/plain": [
       "<IPython.core.display.Image object>"
      ]
     },
     "execution_count": 376,
     "metadata": {},
     "output_type": "execute_result"
    }
   ],
   "source": [
    "tf.keras.utils.plot_model(model_glove, \"multi_input_and_output_model.png\", show_shapes=True)"
   ]
  },
  {
   "cell_type": "code",
   "execution_count": null,
   "metadata": {},
   "outputs": [],
   "source": []
  },
  {
   "cell_type": "code",
   "execution_count": null,
   "metadata": {},
   "outputs": [],
   "source": []
  },
  {
   "cell_type": "markdown",
   "metadata": {},
   "source": [
    "# with word2vec"
   ]
  },
  {
   "cell_type": "code",
   "execution_count": 377,
   "metadata": {},
   "outputs": [
    {
     "name": "stdout",
     "output_type": "stream",
     "text": [
      "The total number of words are :  27364\n",
      "The no of key-value pairs :  27364\n",
      "476\n"
     ]
    }
   ],
   "source": [
    "import gensim\n",
    "w2v_model=gensim.models.Word2Vec(sentences=sentences,vector_size=300,window=10,min_count=1)\n",
    "\n",
    "w2v_model.train(sentences,epochs=10,total_examples=len(sentences))\n",
    "\n",
    "vocab=w2v_model.wv.key_to_index\n",
    "print(\"The total number of words are : \",len(vocab))\n",
    "\n",
    "vocab=list(vocab.keys())\n",
    "\n",
    "word_vec_dict={}\n",
    "for word in vocab:\n",
    "    word_vec_dict[word]=w2v_model.wv.get_vector(word)\n",
    "print(\"The no of key-value pairs : \",len(word_vec_dict)) \n",
    "\n",
    "maxi=-1\n",
    "for i,rev in enumerate(Dataset['clean_review']):\n",
    "    tokens=rev.split()\n",
    "    if(len(tokens)>maxi):\n",
    "        maxi=len(tokens)\n",
    "print(maxi)\n",
    "\n",
    "tok = Tokenizer()\n",
    "tok.fit_on_texts(Dataset['clean_review'])\n",
    "vocab_size = len(tok.word_index) + 1\n",
    "encd_rev = tok.texts_to_sequences(Dataset['clean_review'])\n",
    "\n",
    "max_rev_len=476  # max lenght of a review\n",
    "vocab_size = len(tok.word_index) + 1  # total no of words\n",
    "embed_dim=300\n",
    "\n",
    "from keras.preprocessing.sequence import pad_sequences\n",
    "pad_rev= pad_sequences(encd_rev, maxlen=max_rev_len, padding='post')\n",
    "pad_rev.shape\n",
    "\n",
    "# now creating the embedding matrix\n",
    "embed_matrix=np.zeros(shape=(vocab_size,embed_dim))\n",
    "for word,i in tok.word_index.items():\n",
    "    embed_vector=word_vec_dict.get(word)\n",
    "    if embed_vector is not None:  # word is in the vocabulary learned by the w2v model\n",
    "        embed_matrix[i]=embed_vector\n",
    "\n",
    "from sklearn.model_selection import train_test_split\n",
    "\n",
    "Y=Dataset['Label']  # one hot target as required by NN.\n",
    "x_train,x_test,y_train,y_test=train_test_split(pad_rev,Y,test_size=0.20,random_state=35)"
   ]
  },
  {
   "cell_type": "code",
   "execution_count": 378,
   "metadata": {},
   "outputs": [],
   "source": [
    "embedding_layer = Embedding(input_dim=vocab_size,output_dim=embed_dim,input_length=max_rev_len,embeddings_initializer=Constant(embed_matrix))\n"
   ]
  },
  {
   "cell_type": "code",
   "execution_count": 379,
   "metadata": {},
   "outputs": [],
   "source": [
    "def conv1d_model_w2v(input_shape):\n",
    "\n",
    "    X_indices = Input(input_shape)\n",
    "\n",
    "    embeddings = embedding_layer(X_indices)\n",
    "\n",
    "    X = Conv1D(512,1,activation='relu')(embeddings)\n",
    "  \n",
    "    X = MaxPooling1D(1)(X)\n",
    "\n",
    "    X = Conv1D(256,1,activation='relu')(X)\n",
    "  \n",
    "    X = MaxPooling1D(1)(X)\n",
    "\n",
    "    X = Conv1D(256,1,activation='relu')(X)\n",
    "    X = Dropout(0.8)(X)\n",
    "    X = MaxPooling1D(1)(X)\n",
    "\n",
    "    X = GlobalMaxPooling1D()(X)\n",
    "\n",
    "    X = Dense(256, activation='relu')(X)\n",
    "    X = Dense(3, activation='sigmoid')(X)\n",
    "\n",
    "    model = Model(inputs=X_indices, outputs=X)\n",
    "\n",
    "    return model"
   ]
  },
  {
   "cell_type": "code",
   "execution_count": 380,
   "metadata": {},
   "outputs": [
    {
     "name": "stdout",
     "output_type": "stream",
     "text": [
      "Model: \"model_26\"\n",
      "_________________________________________________________________\n",
      " Layer (type)                Output Shape              Param #   \n",
      "=================================================================\n",
      " input_33 (InputLayer)       [(None, 476)]             0         \n",
      "                                                                 \n",
      " embedding_19 (Embedding)    (None, 476, 300)          8209500   \n",
      "                                                                 \n",
      " conv1d_68 (Conv1D)          (None, 476, 512)          154112    \n",
      "                                                                 \n",
      " max_pooling1d_44 (MaxPoolin  (None, 476, 512)         0         \n",
      " g1D)                                                            \n",
      "                                                                 \n",
      " conv1d_69 (Conv1D)          (None, 476, 256)          131328    \n",
      "                                                                 \n",
      " max_pooling1d_45 (MaxPoolin  (None, 476, 256)         0         \n",
      " g1D)                                                            \n",
      "                                                                 \n",
      " conv1d_70 (Conv1D)          (None, 476, 256)          65792     \n",
      "                                                                 \n",
      " dropout_85 (Dropout)        (None, 476, 256)          0         \n",
      "                                                                 \n",
      " max_pooling1d_46 (MaxPoolin  (None, 476, 256)         0         \n",
      " g1D)                                                            \n",
      "                                                                 \n",
      " global_max_pooling1d_10 (Gl  (None, 256)              0         \n",
      " obalMaxPooling1D)                                               \n",
      "                                                                 \n",
      " dense_63 (Dense)            (None, 256)               65792     \n",
      "                                                                 \n",
      " dense_64 (Dense)            (None, 3)                 771       \n",
      "                                                                 \n",
      "=================================================================\n",
      "Total params: 8,627,295\n",
      "Trainable params: 8,627,295\n",
      "Non-trainable params: 0\n",
      "_________________________________________________________________\n"
     ]
    }
   ],
   "source": [
    "model_W2V = conv1d_model_w2v((maxLen,))\n",
    "model_W2V.summary()"
   ]
  },
  {
   "cell_type": "code",
   "execution_count": 381,
   "metadata": {},
   "outputs": [],
   "source": [
    "import tensorflow as tf \n",
    "adam = tf.optimizers.Adam(learning_rate = 0.0001)\n",
    "model_W2V.compile(optimizer=adam, loss='sparse_categorical_crossentropy', metrics=['accuracy'])"
   ]
  },
  {
   "cell_type": "code",
   "execution_count": 382,
   "metadata": {
    "scrolled": false
   },
   "outputs": [
    {
     "name": "stdout",
     "output_type": "stream",
     "text": [
      "Epoch 1/10\n",
      "63/63 [==============================] - 114s 2s/step - loss: 0.5572 - accuracy: 0.8334\n",
      "Epoch 2/10\n",
      "63/63 [==============================] - 113s 2s/step - loss: 0.4919 - accuracy: 0.8385\n",
      "Epoch 3/10\n",
      "63/63 [==============================] - 143s 2s/step - loss: 0.4668 - accuracy: 0.8393\n",
      "Epoch 4/10\n",
      "63/63 [==============================] - 137s 2s/step - loss: 0.4475 - accuracy: 0.8380\n",
      "Epoch 5/10\n",
      "63/63 [==============================] - 165s 3s/step - loss: 0.4431 - accuracy: 0.8465\n",
      "Epoch 6/10\n",
      "63/63 [==============================] - 154s 2s/step - loss: 0.4319 - accuracy: 0.8438\n",
      "Epoch 7/10\n",
      "63/63 [==============================] - 177s 3s/step - loss: 0.4226 - accuracy: 0.8461\n",
      "Epoch 8/10\n",
      "63/63 [==============================] - 183s 3s/step - loss: 0.4206 - accuracy: 0.8479\n",
      "Epoch 9/10\n",
      "63/63 [==============================] - 197s 3s/step - loss: 0.4124 - accuracy: 0.8505\n",
      "Epoch 10/10\n",
      "63/63 [==============================] - 173s 3s/step - loss: 0.4073 - accuracy: 0.8500\n"
     ]
    }
   ],
   "source": [
    "W2V_hist = model_W2V.fit(x_train, y_train, batch_size=128, epochs=10)"
   ]
  },
  {
   "cell_type": "code",
   "execution_count": null,
   "metadata": {},
   "outputs": [],
   "source": []
  },
  {
   "cell_type": "code",
   "execution_count": null,
   "metadata": {},
   "outputs": [],
   "source": []
  },
  {
   "cell_type": "code",
   "execution_count": 383,
   "metadata": {},
   "outputs": [
    {
     "name": "stdout",
     "output_type": "stream",
     "text": [
      "32/32 [==============================] - 10s 198ms/step\n",
      "              precision    recall  f1-score   support\n",
      "\n",
      "           0       0.31      0.24      0.27       140\n",
      "           1       0.27      0.18      0.22       207\n",
      "           2       0.87      0.93      0.90      1653\n",
      "\n",
      "    accuracy                           0.80      2000\n",
      "   macro avg       0.49      0.45      0.46      2000\n",
      "weighted avg       0.77      0.80      0.79      2000\n",
      "\n"
     ]
    }
   ],
   "source": [
    "from sklearn.metrics import classification_report\n",
    "from sklearn.metrics import f1_score, precision_score, recall_score\n",
    "\n",
    "y_pred = model_W2V.predict(x_test, batch_size=64, verbose=1)\n",
    "y_pred_bool = np.argmax(y_pred, axis=1)\n",
    "\n",
    "print(classification_report(y_test, y_pred_bool))"
   ]
  },
  {
   "cell_type": "code",
   "execution_count": null,
   "metadata": {},
   "outputs": [],
   "source": []
  },
  {
   "cell_type": "markdown",
   "metadata": {},
   "source": [
    "# With unique embeddings\n"
   ]
  },
  {
   "cell_type": "code",
   "execution_count": 384,
   "metadata": {},
   "outputs": [
    {
     "name": "stdout",
     "output_type": "stream",
     "text": [
      "train: 8000 (0.80)\n",
      "test: 2000 (0.20)\n",
      "476\n"
     ]
    }
   ],
   "source": [
    "from sklearn.model_selection import train_test_split\n",
    "\n",
    "train_size = 0.60\n",
    "val_size = 0.20\n",
    "test_size = 0.20\n",
    "\n",
    "X = Dataset['Reviews']\n",
    "y = Dataset['Label']\n",
    "\n",
    "# Split (train)\n",
    "X_train, X_test, y_train, y_test = train_test_split(X, y, train_size=0.80)\n",
    "# Split (test and val)\n",
    "\n",
    "print(f\"train: {len(X_train)} ({len(X_train)/len(X):.2f})\\n\"\n",
    "      f\"test: {len(X_test)} ({len(X_test)/len(X):.2f})\")\n",
    "\n",
    "# max length of review calculation\n",
    "maxi=-1\n",
    "for i,rev in enumerate(Dataset['clean_review']):\n",
    "    tokens=rev.split()\n",
    "    if(len(tokens)>maxi):\n",
    "        maxi=len(tokens)\n",
    "print(maxi)"
   ]
  },
  {
   "cell_type": "code",
   "execution_count": 385,
   "metadata": {},
   "outputs": [
    {
     "name": "stderr",
     "output_type": "stream",
     "text": [
      "100%|██████████| 8000/8000 [00:00<00:00, 8886.47it/s]\n"
     ]
    },
    {
     "data": {
      "text/plain": [
       "27364"
      ]
     },
     "execution_count": 385,
     "metadata": {},
     "output_type": "execute_result"
    }
   ],
   "source": [
    "#Tokenize\n",
    "from keras.preprocessing.text import Tokenizer\n",
    "\n",
    "from tqdm import tqdm\n",
    "# keras tokenzier initialization\n",
    "unique_words = set()\n",
    "len_max = 0\n",
    "for sent in tqdm(x_train):\n",
    "    unique_words.update(sent)\n",
    "    if len_max < len(sent):\n",
    "        len_max = len(sent)\n",
    "len(list(unique_words)), len_max\n",
    "\n",
    "wor_len = len(list(unique_words))\n",
    "\n",
    "tok = Tokenizer(num_words=wor_len)\n",
    "tok.fit_on_texts(Dataset['clean_review'])\n",
    "words_to_index = tok.word_index\n",
    "encd_rev = tok.texts_to_sequences(Dataset['clean_review'])\n",
    "\n",
    "len(words_to_index)"
   ]
  },
  {
   "cell_type": "code",
   "execution_count": 386,
   "metadata": {},
   "outputs": [
    {
     "data": {
      "text/plain": [
       "(10000, 476)"
      ]
     },
     "execution_count": 386,
     "metadata": {},
     "output_type": "execute_result"
    }
   ],
   "source": [
    "max_rev_len=476  # max lenght of a review\n",
    "vocab_size = len(tok.word_index) + 1  # total no of words\n",
    "embed_dim=50\n",
    "\n",
    "from keras.preprocessing.sequence import pad_sequences\n",
    "pad_rev= pad_sequences(encd_rev, maxlen=max_rev_len, padding='post')\n",
    "pad_rev.shape "
   ]
  },
  {
   "cell_type": "code",
   "execution_count": 387,
   "metadata": {},
   "outputs": [],
   "source": [
    "vocab_len = len(words_to_index)+1\n",
    "embed_vector_len = 50\n",
    "\n",
    "emb_matrix = np.zeros((vocab_len, embed_vector_len))\n",
    "\n",
    "for word, index in words_to_index.items():\n",
    "    embedding_vector = word_to_vec_map.get(word)\n",
    "    if embedding_vector is not None:\n",
    "        emb_matrix[index, :] = embedding_vector\n",
    "\n",
    "embedding_layer = Embedding(input_dim=vocab_len, output_dim=embed_vector_len, input_length=maxLen, weights = [emb_matrix], trainable=False)"
   ]
  },
  {
   "cell_type": "code",
   "execution_count": 388,
   "metadata": {},
   "outputs": [
    {
     "data": {
      "text/plain": [
       "(8000, 476)"
      ]
     },
     "execution_count": 388,
     "metadata": {},
     "output_type": "execute_result"
    }
   ],
   "source": [
    "from keras.preprocessing.text import Tokenizer\n",
    "from keras.preprocessing import sequence\n",
    "tokenizer = Tokenizer()\n",
    "X_train_indices = tokenizer.texts_to_sequences(X_train)\n",
    "X_train_indices = pad_sequences(X_train_indices, maxlen=maxLen)\n",
    "X_train_indices.shape\n"
   ]
  },
  {
   "cell_type": "code",
   "execution_count": 389,
   "metadata": {},
   "outputs": [],
   "source": [
    "def conv1d_model_without_embeddings(input_shape):\n",
    "\n",
    "    X_indices = Input(input_shape)\n",
    "\n",
    "    embeddings = embedding_layer(X_indices)\n",
    "\n",
    "    X = Conv1D(512,1,activation='relu')(embeddings)\n",
    "  \n",
    "    X = MaxPooling1D(1)(X)\n",
    "\n",
    "    X = Conv1D(256,1,activation='relu')(X)\n",
    "  \n",
    "    X = MaxPooling1D(1)(X)\n",
    "\n",
    "    X = Conv1D(256,1,activation='relu')(X)\n",
    "    X = Dropout(0.8)(X)\n",
    "    X = MaxPooling1D(1)(X)\n",
    "\n",
    "    X = GlobalMaxPooling1D()(X)\n",
    "\n",
    "    X = Dense(256, activation='relu')(X)\n",
    "    X = Dense(3, activation='sigmoid')(X)\n",
    "\n",
    "    model = Model(inputs=X_indices, outputs=X)\n",
    "    \n",
    "    return model"
   ]
  },
  {
   "cell_type": "code",
   "execution_count": 390,
   "metadata": {},
   "outputs": [
    {
     "name": "stdout",
     "output_type": "stream",
     "text": [
      "Model: \"model_27\"\n",
      "_________________________________________________________________\n",
      " Layer (type)                Output Shape              Param #   \n",
      "=================================================================\n",
      " input_34 (InputLayer)       [(None, 476)]             0         \n",
      "                                                                 \n",
      " embedding_20 (Embedding)    (None, 476, 50)           1368250   \n",
      "                                                                 \n",
      " conv1d_71 (Conv1D)          (None, 476, 512)          26112     \n",
      "                                                                 \n",
      " max_pooling1d_47 (MaxPoolin  (None, 476, 512)         0         \n",
      " g1D)                                                            \n",
      "                                                                 \n",
      " conv1d_72 (Conv1D)          (None, 476, 256)          131328    \n",
      "                                                                 \n",
      " max_pooling1d_48 (MaxPoolin  (None, 476, 256)         0         \n",
      " g1D)                                                            \n",
      "                                                                 \n",
      " conv1d_73 (Conv1D)          (None, 476, 256)          65792     \n",
      "                                                                 \n",
      " dropout_86 (Dropout)        (None, 476, 256)          0         \n",
      "                                                                 \n",
      " max_pooling1d_49 (MaxPoolin  (None, 476, 256)         0         \n",
      " g1D)                                                            \n",
      "                                                                 \n",
      " global_max_pooling1d_11 (Gl  (None, 256)              0         \n",
      " obalMaxPooling1D)                                               \n",
      "                                                                 \n",
      " dense_65 (Dense)            (None, 256)               65792     \n",
      "                                                                 \n",
      " dense_66 (Dense)            (None, 3)                 771       \n",
      "                                                                 \n",
      "=================================================================\n",
      "Total params: 1,658,045\n",
      "Trainable params: 289,795\n",
      "Non-trainable params: 1,368,250\n",
      "_________________________________________________________________\n"
     ]
    }
   ],
   "source": [
    "model_WE = conv1d_model_without_embeddings((maxLen,))\n",
    "model_WE.summary()"
   ]
  },
  {
   "cell_type": "code",
   "execution_count": 391,
   "metadata": {},
   "outputs": [],
   "source": [
    "import tensorflow as tf \n",
    "adam = tf.optimizers.Adam(learning_rate = 0.0001)\n",
    "model_WE.compile(optimizer=adam, loss='sparse_categorical_crossentropy', metrics=['accuracy'])"
   ]
  },
  {
   "cell_type": "code",
   "execution_count": 392,
   "metadata": {},
   "outputs": [
    {
     "name": "stdout",
     "output_type": "stream",
     "text": [
      "Epoch 1/10\n",
      "63/63 [==============================] - 149s 2s/step - loss: 0.5939 - accuracy: 0.8296\n",
      "Epoch 2/10\n",
      "63/63 [==============================] - 136s 2s/step - loss: 0.5578 - accuracy: 0.8385\n",
      "Epoch 3/10\n",
      "63/63 [==============================] - 140s 2s/step - loss: 0.5599 - accuracy: 0.8388\n",
      "Epoch 4/10\n",
      "63/63 [==============================] - 137s 2s/step - loss: 0.5540 - accuracy: 0.8386\n",
      "Epoch 5/10\n",
      "63/63 [==============================] - 136s 2s/step - loss: 0.5522 - accuracy: 0.8388\n",
      "Epoch 6/10\n",
      "63/63 [==============================] - 102s 2s/step - loss: 0.5517 - accuracy: 0.8388\n",
      "Epoch 7/10\n",
      "63/63 [==============================] - 121s 2s/step - loss: 0.5521 - accuracy: 0.8388\n",
      "Epoch 8/10\n",
      "63/63 [==============================] - 97s 2s/step - loss: 0.5477 - accuracy: 0.8388\n",
      "Epoch 9/10\n",
      "63/63 [==============================] - 111s 2s/step - loss: 0.5440 - accuracy: 0.8388\n",
      "Epoch 10/10\n",
      "63/63 [==============================] - 116s 2s/step - loss: 0.5451 - accuracy: 0.8388\n"
     ]
    }
   ],
   "source": [
    "WE_hist = model_WE.fit(x_train, y_train, batch_size=128, epochs=10)"
   ]
  },
  {
   "cell_type": "code",
   "execution_count": 393,
   "metadata": {},
   "outputs": [
    {
     "name": "stdout",
     "output_type": "stream",
     "text": [
      "32/32 [==============================] - 4s 125ms/step\n",
      "              precision    recall  f1-score   support\n",
      "\n",
      "           0       0.00      0.00      0.00       124\n",
      "           1       0.00      0.00      0.00       208\n",
      "           2       0.83      1.00      0.91      1668\n",
      "\n",
      "    accuracy                           0.83      2000\n",
      "   macro avg       0.28      0.33      0.30      2000\n",
      "weighted avg       0.70      0.83      0.76      2000\n",
      "\n"
     ]
    }
   ],
   "source": [
    "from sklearn.metrics import classification_report\n",
    "from sklearn.metrics import f1_score, precision_score, recall_score\n",
    "\n",
    "y_pred = model_WE.predict(x_test, batch_size=64, verbose=1)\n",
    "y_pred_bool = np.argmax(y_pred, axis=1)\n",
    "\n",
    "print(classification_report(y_test, y_pred_bool))"
   ]
  },
  {
   "cell_type": "code",
   "execution_count": null,
   "metadata": {},
   "outputs": [],
   "source": []
  },
  {
   "cell_type": "code",
   "execution_count": null,
   "metadata": {},
   "outputs": [],
   "source": []
  },
  {
   "cell_type": "code",
   "execution_count": null,
   "metadata": {},
   "outputs": [],
   "source": []
  },
  {
   "cell_type": "code",
   "execution_count": null,
   "metadata": {},
   "outputs": [],
   "source": []
  },
  {
   "cell_type": "code",
   "execution_count": 397,
   "metadata": {},
   "outputs": [
    {
     "data": {
      "image/png": "[encoded data removed]",
      "text/plain": [
       "<Figure size 432x288 with 1 Axes>"
      ]
     },
     "metadata": {
      "needs_background": "light"
     },
     "output_type": "display_data"
    }
   ],
   "source": [
    "withoutemm = WE_hist.history['accuracy']\n",
    "glove = Glove_hist.history['accuracy']\n",
    "word2vec = W2V_hist.history['accuracy']\n",
    "epochs = range(1,11)\n",
    "plt.plot(epochs, withoutemm, 'g', label='Unique words embedding accuracy')\n",
    "plt.plot(epochs, glove, 'b', label='Glove accuracy')\n",
    "plt.plot(epochs, word2vec, 'r', label='Word2vec accuracy')\n",
    "plt.title('CNN Models Accuracy')\n",
    "plt.xlabel('Epochs')\n",
    "plt.ylabel('Accuracy')\n",
    "plt.legend()\n",
    "plt.show()"
   ]
  },
  {
   "cell_type": "code",
   "execution_count": null,
   "metadata": {},
   "outputs": [],
   "source": []
  },
  {
   "cell_type": "code",
   "execution_count": null,
   "metadata": {},
   "outputs": [],
   "source": []
  },
  {
   "cell_type": "code",
   "execution_count": null,
   "metadata": {},
   "outputs": [],
   "source": []
  }
 ],
 "metadata": {
  "kernelspec": {
   "display_name": "Python 3",
   "language": "python",
   "name": "python3"
  },
  "language_info": {
   "codemirror_mode": {
    "name": "ipython",
    "version": 3
   },
   "file_extension": ".py",
   "mimetype": "text/x-python",
   "name": "python",
   "nbconvert_exporter": "python",
   "pygments_lexer": "ipython3",
   "version": "3.8.5"
  }
 },
 "nbformat": 4,
 "nbformat_minor": 4
}
