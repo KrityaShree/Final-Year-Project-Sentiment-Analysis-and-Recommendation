{
 "cells": [
  {
   "cell_type": "markdown",
   "metadata": {},
   "source": [
    "# Sentiment Analysis using Long short-term Memory algorithm"
   ]
  },
  {
   "cell_type": "code",
   "execution_count": 129,
   "metadata": {},
   "outputs": [],
   "source": [
    "import pandas as pd\n",
    "import numpy as np\n",
    "import json\n",
    "\n",
    "from collections import defaultdict\n",
    "from pandas.api.types import is_numeric_dtype\n",
    "\n",
    "import matplotlib.pyplot as plt\n",
    "import seaborn as sns\n",
    "%matplotlib inline\n",
    "\n",
    "import nltk\n",
    "from spacy.lang.en import English\n",
    "\n",
    "from nltk import word_tokenize\n",
    "import re\n",
    "from keras.preprocessing.text import Tokenizer\n",
    "from nltk.stem.porter import PorterStemmer\n",
    "\n",
    "from bs4 import BeautifulSoup\n",
    "import re\n",
    "from nltk.corpus import stopwords\n",
    "from nltk.tokenize import word_tokenize\n",
    "from nltk.stem import WordNetLemmatizer\n",
    "lemmatizer = WordNetLemmatizer()"
   ]
  },
  {
   "cell_type": "markdown",
   "metadata": {},
   "source": [
    "## Dataset"
   ]
  },
  {
   "cell_type": "code",
   "execution_count": 130,
   "metadata": {},
   "outputs": [
    {
     "name": "stdout",
     "output_type": "stream",
     "text": [
      "Review : \n",
      " I bought both boxed sets, books 1-5.  Really a great series!  Start book 1 three weeks ago and just finished book 5.  Sloane Monroe is a great character and being able to follow her through both private life and her PI life gets a reader very involved!  Although clues may be right in front of the reader, there are twists and turns that keep one guessing until the last page!  These are books you won't be disappointed with.\n",
      "Sentiment : POSITIVE\n"
     ]
    }
   ],
   "source": [
    "class Sentiment:\n",
    "    NEGATIVE = \"NEGATIVE\"\n",
    "    NEUTRAL = \"NEUTRAL\"\n",
    "    POSITIVE = \"POSITIVE\"\n",
    "\n",
    "class Review:\n",
    "    def __init__(self, text, score):\n",
    "        self.text = text\n",
    "        self.score = score\n",
    "        self.sentiment = self.get_sentiment()\n",
    "        \n",
    "    def get_sentiment(self):\n",
    "        if self.score <= 2:\n",
    "            return Sentiment.NEGATIVE\n",
    "        elif self.score == 3:\n",
    "            return Sentiment.NEUTRAL\n",
    "        else: #Score of 4 or 5\n",
    "            return Sentiment.POSITIVE\n",
    "        \n",
    "        \n",
    "file_name = '/Users/kritya/Downloads/Books_large.json'\n",
    "\n",
    "reviews = []\n",
    "with open(file_name) as f:\n",
    "    for line in f:\n",
    "        review = json.loads(line)\n",
    "        reviews.append(Review(review[\"reviewText\"], review[\"overall\"]))\n",
    "        \n",
    "print('Review : \\n', reviews[0].text)\n",
    "print('Sentiment :', reviews[0].sentiment)"
   ]
  },
  {
   "cell_type": "code",
   "execution_count": 131,
   "metadata": {},
   "outputs": [],
   "source": [
    "class ReviewContainer:\n",
    "    def __init__(self, reviews):\n",
    "        self.reviews = reviews\n",
    "        \n",
    "    def get_text(self):\n",
    "        return [x.text for x in self.reviews]\n",
    "    \n",
    "    def get_sentiment(self):\n",
    "        return [x.sentiment for x in self.reviews]\n",
    "    \n",
    "    def evenly_distribute(self):\n",
    "        negative = list(filter(lambda x: x.sentiment == Sentiment.NEGATIVE, self.reviews))\n",
    "        positive = list(filter(lambda x: x.sentiment == Sentiment.POSITIVE, self.reviews))\n",
    "        neutral = list(filter(lambda x: x.sentiment == Sentiment.NEUTRAL, self.reviews))\n",
    "        positive_shrunk = positive[:len(negative)]\n",
    "        neutral_shrunk = neutral[:len(negative)]\n",
    "        self.reviews = negative + positive_shrunk + neutral_shrunk\n",
    "        np.random.shuffle(self.reviews)"
   ]
  },
  {
   "cell_type": "code",
   "execution_count": 132,
   "metadata": {},
   "outputs": [],
   "source": [
    "reviews_container = ReviewContainer(reviews)\n",
    "\n",
    "#reviews_container.evenly_distribute()\n",
    "text = reviews_container.get_text()\n",
    "sentiment = reviews_container.get_sentiment()"
   ]
  },
  {
   "cell_type": "code",
   "execution_count": 133,
   "metadata": {},
   "outputs": [],
   "source": [
    "Dataset = pd.DataFrame({\n",
    "    'Reviews':text,\n",
    "    'Sentiment':sentiment\n",
    "})"
   ]
  },
  {
   "cell_type": "code",
   "execution_count": 134,
   "metadata": {
    "scrolled": false
   },
   "outputs": [
    {
     "data": {
      "text/html": [
       "<div>\n",
       "<style scoped>\n",
       "    .dataframe tbody tr th:only-of-type {\n",
       "        vertical-align: middle;\n",
       "    }\n",
       "\n",
       "    .dataframe tbody tr th {\n",
       "        vertical-align: top;\n",
       "    }\n",
       "\n",
       "    .dataframe thead th {\n",
       "        text-align: right;\n",
       "    }\n",
       "</style>\n",
       "<table border=\"1\" class=\"dataframe\">\n",
       "  <thead>\n",
       "    <tr style=\"text-align: right;\">\n",
       "      <th></th>\n",
       "      <th>Reviews</th>\n",
       "      <th>Sentiment</th>\n",
       "    </tr>\n",
       "  </thead>\n",
       "  <tbody>\n",
       "    <tr>\n",
       "      <th>0</th>\n",
       "      <td>I bought both boxed sets, books 1-5.  Really a...</td>\n",
       "      <td>POSITIVE</td>\n",
       "    </tr>\n",
       "    <tr>\n",
       "      <th>1</th>\n",
       "      <td>I enjoyed this short book. But it was way way ...</td>\n",
       "      <td>NEUTRAL</td>\n",
       "    </tr>\n",
       "    <tr>\n",
       "      <th>2</th>\n",
       "      <td>I love Nicholas Sparks. I&amp;#8217;ve read everyt...</td>\n",
       "      <td>POSITIVE</td>\n",
       "    </tr>\n",
       "    <tr>\n",
       "      <th>3</th>\n",
       "      <td>I really enjoyed this adventure and look forwa...</td>\n",
       "      <td>POSITIVE</td>\n",
       "    </tr>\n",
       "    <tr>\n",
       "      <th>4</th>\n",
       "      <td>It was a decent read.. typical story line. Not...</td>\n",
       "      <td>NEUTRAL</td>\n",
       "    </tr>\n",
       "    <tr>\n",
       "      <th>...</th>\n",
       "      <td>...</td>\n",
       "      <td>...</td>\n",
       "    </tr>\n",
       "    <tr>\n",
       "      <th>9995</th>\n",
       "      <td>The whole series was great!  Melody is a fanta...</td>\n",
       "      <td>POSITIVE</td>\n",
       "    </tr>\n",
       "    <tr>\n",
       "      <th>9996</th>\n",
       "      <td>I didn't thing that much of this book.  I am a...</td>\n",
       "      <td>NEUTRAL</td>\n",
       "    </tr>\n",
       "    <tr>\n",
       "      <th>9997</th>\n",
       "      <td>It is an emotional TRIP to the past with Trip ...</td>\n",
       "      <td>POSITIVE</td>\n",
       "    </tr>\n",
       "    <tr>\n",
       "      <th>9998</th>\n",
       "      <td>This definitely got under my veins whereby I h...</td>\n",
       "      <td>POSITIVE</td>\n",
       "    </tr>\n",
       "    <tr>\n",
       "      <th>9999</th>\n",
       "      <td>Highly recommend this entire trilogy. It is ve...</td>\n",
       "      <td>POSITIVE</td>\n",
       "    </tr>\n",
       "  </tbody>\n",
       "</table>\n",
       "<p>10000 rows × 2 columns</p>\n",
       "</div>"
      ],
      "text/plain": [
       "                                                Reviews Sentiment\n",
       "0     I bought both boxed sets, books 1-5.  Really a...  POSITIVE\n",
       "1     I enjoyed this short book. But it was way way ...   NEUTRAL\n",
       "2     I love Nicholas Sparks. I&#8217;ve read everyt...  POSITIVE\n",
       "3     I really enjoyed this adventure and look forwa...  POSITIVE\n",
       "4     It was a decent read.. typical story line. Not...   NEUTRAL\n",
       "...                                                 ...       ...\n",
       "9995  The whole series was great!  Melody is a fanta...  POSITIVE\n",
       "9996  I didn't thing that much of this book.  I am a...   NEUTRAL\n",
       "9997  It is an emotional TRIP to the past with Trip ...  POSITIVE\n",
       "9998  This definitely got under my veins whereby I h...  POSITIVE\n",
       "9999  Highly recommend this entire trilogy. It is ve...  POSITIVE\n",
       "\n",
       "[10000 rows x 2 columns]"
      ]
     },
     "execution_count": 134,
     "metadata": {},
     "output_type": "execute_result"
    }
   ],
   "source": [
    "Dataset"
   ]
  },
  {
   "cell_type": "markdown",
   "metadata": {},
   "source": [
    "# "
   ]
  },
  {
   "cell_type": "markdown",
   "metadata": {},
   "source": [
    "# "
   ]
  },
  {
   "cell_type": "code",
   "execution_count": 135,
   "metadata": {
    "scrolled": false
   },
   "outputs": [
    {
     "data": {
      "text/html": [
       "<div>\n",
       "<style scoped>\n",
       "    .dataframe tbody tr th:only-of-type {\n",
       "        vertical-align: middle;\n",
       "    }\n",
       "\n",
       "    .dataframe tbody tr th {\n",
       "        vertical-align: top;\n",
       "    }\n",
       "\n",
       "    .dataframe thead th {\n",
       "        text-align: right;\n",
       "    }\n",
       "</style>\n",
       "<table border=\"1\" class=\"dataframe\">\n",
       "  <thead>\n",
       "    <tr style=\"text-align: right;\">\n",
       "      <th></th>\n",
       "      <th>Reviews</th>\n",
       "      <th>Sentiment</th>\n",
       "      <th>Label</th>\n",
       "    </tr>\n",
       "  </thead>\n",
       "  <tbody>\n",
       "    <tr>\n",
       "      <th>0</th>\n",
       "      <td>I bought both boxed sets, books 1-5.  Really a...</td>\n",
       "      <td>POSITIVE</td>\n",
       "      <td>2</td>\n",
       "    </tr>\n",
       "    <tr>\n",
       "      <th>1</th>\n",
       "      <td>I enjoyed this short book. But it was way way ...</td>\n",
       "      <td>NEUTRAL</td>\n",
       "      <td>1</td>\n",
       "    </tr>\n",
       "    <tr>\n",
       "      <th>2</th>\n",
       "      <td>I love Nicholas Sparks. I&amp;#8217;ve read everyt...</td>\n",
       "      <td>POSITIVE</td>\n",
       "      <td>2</td>\n",
       "    </tr>\n",
       "    <tr>\n",
       "      <th>3</th>\n",
       "      <td>I really enjoyed this adventure and look forwa...</td>\n",
       "      <td>POSITIVE</td>\n",
       "      <td>2</td>\n",
       "    </tr>\n",
       "    <tr>\n",
       "      <th>4</th>\n",
       "      <td>It was a decent read.. typical story line. Not...</td>\n",
       "      <td>NEUTRAL</td>\n",
       "      <td>1</td>\n",
       "    </tr>\n",
       "    <tr>\n",
       "      <th>...</th>\n",
       "      <td>...</td>\n",
       "      <td>...</td>\n",
       "      <td>...</td>\n",
       "    </tr>\n",
       "    <tr>\n",
       "      <th>9995</th>\n",
       "      <td>The whole series was great!  Melody is a fanta...</td>\n",
       "      <td>POSITIVE</td>\n",
       "      <td>2</td>\n",
       "    </tr>\n",
       "    <tr>\n",
       "      <th>9996</th>\n",
       "      <td>I didn't thing that much of this book.  I am a...</td>\n",
       "      <td>NEUTRAL</td>\n",
       "      <td>1</td>\n",
       "    </tr>\n",
       "    <tr>\n",
       "      <th>9997</th>\n",
       "      <td>It is an emotional TRIP to the past with Trip ...</td>\n",
       "      <td>POSITIVE</td>\n",
       "      <td>2</td>\n",
       "    </tr>\n",
       "    <tr>\n",
       "      <th>9998</th>\n",
       "      <td>This definitely got under my veins whereby I h...</td>\n",
       "      <td>POSITIVE</td>\n",
       "      <td>2</td>\n",
       "    </tr>\n",
       "    <tr>\n",
       "      <th>9999</th>\n",
       "      <td>Highly recommend this entire trilogy. It is ve...</td>\n",
       "      <td>POSITIVE</td>\n",
       "      <td>2</td>\n",
       "    </tr>\n",
       "  </tbody>\n",
       "</table>\n",
       "<p>10000 rows × 3 columns</p>\n",
       "</div>"
      ],
      "text/plain": [
       "                                                Reviews Sentiment  Label\n",
       "0     I bought both boxed sets, books 1-5.  Really a...  POSITIVE      2\n",
       "1     I enjoyed this short book. But it was way way ...   NEUTRAL      1\n",
       "2     I love Nicholas Sparks. I&#8217;ve read everyt...  POSITIVE      2\n",
       "3     I really enjoyed this adventure and look forwa...  POSITIVE      2\n",
       "4     It was a decent read.. typical story line. Not...   NEUTRAL      1\n",
       "...                                                 ...       ...    ...\n",
       "9995  The whole series was great!  Melody is a fanta...  POSITIVE      2\n",
       "9996  I didn't thing that much of this book.  I am a...   NEUTRAL      1\n",
       "9997  It is an emotional TRIP to the past with Trip ...  POSITIVE      2\n",
       "9998  This definitely got under my veins whereby I h...  POSITIVE      2\n",
       "9999  Highly recommend this entire trilogy. It is ve...  POSITIVE      2\n",
       "\n",
       "[10000 rows x 3 columns]"
      ]
     },
     "execution_count": 135,
     "metadata": {},
     "output_type": "execute_result"
    }
   ],
   "source": [
    "# Label Encoding\n",
    "from sklearn.preprocessing import LabelEncoder\n",
    "\n",
    "types = ('POSITIVE', 'NEUTRAL', 'NEGATIVE')\n",
    "labelencoder = LabelEncoder()\n",
    "Dataset['Label'] = labelencoder.fit_transform(Dataset['Sentiment'])\n",
    "Dataset"
   ]
  },
  {
   "cell_type": "code",
   "execution_count": null,
   "metadata": {},
   "outputs": [],
   "source": []
  },
  {
   "cell_type": "code",
   "execution_count": 136,
   "metadata": {},
   "outputs": [
    {
     "name": "stdout",
     "output_type": "stream",
     "text": [
      "train: 6000 (0.60)\n",
      "val: 2000 (0.20)\n",
      "test: 2000 (0.20)\n"
     ]
    }
   ],
   "source": [
    "from sklearn.model_selection import train_test_split\n",
    "\n",
    "train_size = 0.60\n",
    "val_size = 0.20\n",
    "test_size = 0.20\n",
    "\n",
    "X = Dataset['Reviews']\n",
    "y = Dataset['Label']\n",
    "\n",
    "# Split (train)\n",
    "X_train, X_, y_train, y_ = train_test_split(X, y, train_size=train_size)\n",
    "# Split (test and val)\n",
    "X_val, X_test, y_val, y_test = train_test_split(X_, y_, train_size=0.5, random_state = 45)\n",
    "\n",
    "print(f\"train: {len(X_train)} ({len(X_train)/len(X):.2f})\\n\"\n",
    "      f\"val: {len(X_val)} ({len(X_val)/len(X):.2f})\\n\"\n",
    "      f\"test: {len(X_test)} ({len(X_test)/len(X):.2f})\")"
   ]
  },
  {
   "cell_type": "code",
   "execution_count": 137,
   "metadata": {},
   "outputs": [
    {
     "name": "stdout",
     "output_type": "stream",
     "text": [
      "6000 2000 2000 \n",
      " 6000 2000 2000\n"
     ]
    }
   ],
   "source": [
    "print(len(X_train),len(X_test),len(X_val),\"\\n\",len(y_train),len(y_test),len(y_val))"
   ]
  },
  {
   "cell_type": "markdown",
   "metadata": {},
   "source": [
    "## Pre-processing"
   ]
  },
  {
   "cell_type": "code",
   "execution_count": 138,
   "metadata": {},
   "outputs": [
    {
     "name": "stderr",
     "output_type": "stream",
     "text": [
      "100%|██████████| 6000/6000 [00:01<00:00, 5284.87it/s]\n",
      "100%|██████████| 2000/2000 [00:00<00:00, 5143.72it/s]\n",
      "100%|██████████| 2000/2000 [00:00<00:00, 5576.40it/s]\n"
     ]
    }
   ],
   "source": [
    "#Pre-processing\n",
    "\n",
    "#X_train\n",
    "#X_train\n",
    "\n",
    "from tqdm import tqdm\n",
    "from sklearn.model_selection import train_test_split\n",
    "import nltk\n",
    "from nltk import pos_tag, word_tokenize\n",
    "from nltk.tokenize import word_tokenize\n",
    "from nltk.stem import WordNetLemmatizer\n",
    "lemmatizer = WordNetLemmatizer()\n",
    "from bs4 import BeautifulSoup\n",
    "import re\n",
    "\n",
    "def posTag(review):\n",
    "    tagged_text_list=[]\n",
    "    for text in review:\n",
    "        tagged_text_list.append(pos_tag(word_tokenize(text)))\n",
    "    return tagged_text_list\n",
    "\n",
    "def filterTag(tagged_review):\n",
    "    final_text_list=[]\n",
    "    for text_list in tagged_review:\n",
    "        final_text=[]\n",
    "        for word,tag in text_list:\n",
    "            if tag in ['NN','NNS','NNP','NNPS','RB','RBR','RBS','JJ','JJR','JJS','VB','VBD','VBG','VBN','VBP','VBZ']:\n",
    "                final_text.append(word)\n",
    "        final_text_list.append(' '.join(final_text))\n",
    "    return final_text_list\n",
    "\n",
    "def clean_sentences(df):\n",
    "    reviews = []\n",
    "\n",
    "    for sent in tqdm(df):\n",
    "        \n",
    "        #remove html content\n",
    "        review_text = BeautifulSoup(sent).get_text()\n",
    "        \n",
    "        #remove non-alphabetic characters\n",
    "        review_text = re.sub(\"[.,/\\)(!?:;-='_...\"\"@#_]\", \" \", review_text)\n",
    "    \n",
    "        reviews.append(review_text)\n",
    "\n",
    "    return(reviews)\n",
    "\n",
    "X_train = clean_sentences(X_train)\n",
    "X_train = posTag(X_train)\n",
    "X_train = filterTag(X_train)\n",
    "\n",
    "X_val = clean_sentences(X_val)\n",
    "X_val = posTag(X_val)\n",
    "X_val = filterTag(X_val)\n",
    "\n",
    "X_test = clean_sentences(X_test)\n",
    "X_test = posTag(X_test)\n",
    "X_test = filterTag(X_test)"
   ]
  },
  {
   "cell_type": "code",
   "execution_count": 139,
   "metadata": {},
   "outputs": [],
   "source": [
    "#X_train"
   ]
  },
  {
   "cell_type": "markdown",
   "metadata": {},
   "source": [
    "## "
   ]
  },
  {
   "cell_type": "markdown",
   "metadata": {},
   "source": [
    "# Word2vec"
   ]
  },
  {
   "cell_type": "code",
   "execution_count": 157,
   "metadata": {},
   "outputs": [
    {
     "name": "stderr",
     "output_type": "stream",
     "text": [
      "/Users/kritya/opt/anaconda3/lib/python3.8/site-packages/bs4/__init__.py:332: MarkupResemblesLocatorWarning: \".\" looks like a filename, not markup. You should probably open this file and pass the filehandle into Beautiful Soup.\n",
      "  warnings.warn(\n"
     ]
    },
    {
     "name": "stdout",
     "output_type": "stream",
     "text": [
      "57176\n",
      "57176\n",
      "['bought', 'boxed', 'set', 'book'] \n",
      "\n",
      "['really', 'great', 'series'] \n",
      "\n",
      "['start', 'book', 'three', 'week', 'ago', 'finished', 'book'] \n",
      "\n",
      "['sloane', 'monroe', 'great', 'character', 'able', 'follow', 'private', 'life', 'pi', 'life', 'get', 'reader', 'involved'] \n",
      "\n",
      "['although', 'clue', 'may', 'right', 'front', 'reader', 'twist', 'turn', 'keep', 'one', 'guessing', 'last', 'page'] \n",
      "\n"
     ]
    },
    {
     "data": {
      "text/html": [
       "<div>\n",
       "<style scoped>\n",
       "    .dataframe tbody tr th:only-of-type {\n",
       "        vertical-align: middle;\n",
       "    }\n",
       "\n",
       "    .dataframe tbody tr th {\n",
       "        vertical-align: top;\n",
       "    }\n",
       "\n",
       "    .dataframe thead th {\n",
       "        text-align: right;\n",
       "    }\n",
       "</style>\n",
       "<table border=\"1\" class=\"dataframe\">\n",
       "  <thead>\n",
       "    <tr style=\"text-align: right;\">\n",
       "      <th></th>\n",
       "      <th>Reviews</th>\n",
       "      <th>Sentiment</th>\n",
       "      <th>Label</th>\n",
       "      <th>clean_review</th>\n",
       "    </tr>\n",
       "  </thead>\n",
       "  <tbody>\n",
       "    <tr>\n",
       "      <th>0</th>\n",
       "      <td>I bought both boxed sets, books 1-5.  Really a...</td>\n",
       "      <td>POSITIVE</td>\n",
       "      <td>2</td>\n",
       "      <td>bought boxed set book really great series star...</td>\n",
       "    </tr>\n",
       "    <tr>\n",
       "      <th>1</th>\n",
       "      <td>I enjoyed this short book. But it was way way ...</td>\n",
       "      <td>NEUTRAL</td>\n",
       "      <td>1</td>\n",
       "      <td>enjoyed short book way way short see easily wo...</td>\n",
       "    </tr>\n",
       "    <tr>\n",
       "      <th>2</th>\n",
       "      <td>I love Nicholas Sparks. I&amp;#8217;ve read everyt...</td>\n",
       "      <td>POSITIVE</td>\n",
       "      <td>2</td>\n",
       "      <td>love nicholas spark read everything written wa...</td>\n",
       "    </tr>\n",
       "    <tr>\n",
       "      <th>3</th>\n",
       "      <td>I really enjoyed this adventure and look forwa...</td>\n",
       "      <td>POSITIVE</td>\n",
       "      <td>2</td>\n",
       "      <td>really enjoyed adventure look forward reading ...</td>\n",
       "    </tr>\n",
       "    <tr>\n",
       "      <th>4</th>\n",
       "      <td>It was a decent read.. typical story line. Not...</td>\n",
       "      <td>NEUTRAL</td>\n",
       "      <td>1</td>\n",
       "      <td>decent read typical story line nothing unsavor...</td>\n",
       "    </tr>\n",
       "    <tr>\n",
       "      <th>...</th>\n",
       "      <td>...</td>\n",
       "      <td>...</td>\n",
       "      <td>...</td>\n",
       "      <td>...</td>\n",
       "    </tr>\n",
       "    <tr>\n",
       "      <th>9995</th>\n",
       "      <td>The whole series was great!  Melody is a fanta...</td>\n",
       "      <td>POSITIVE</td>\n",
       "      <td>2</td>\n",
       "      <td>whole series great melody fantastic writer kee...</td>\n",
       "    </tr>\n",
       "    <tr>\n",
       "      <th>9996</th>\n",
       "      <td>I didn't thing that much of this book.  I am a...</td>\n",
       "      <td>NEUTRAL</td>\n",
       "      <td>1</td>\n",
       "      <td>thing much book boater lot going boat seem rea...</td>\n",
       "    </tr>\n",
       "    <tr>\n",
       "      <th>9997</th>\n",
       "      <td>It is an emotional TRIP to the past with Trip ...</td>\n",
       "      <td>POSITIVE</td>\n",
       "      <td>2</td>\n",
       "      <td>emotional trip past trip layla love ease writi...</td>\n",
       "    </tr>\n",
       "    <tr>\n",
       "      <th>9998</th>\n",
       "      <td>This definitely got under my veins whereby I h...</td>\n",
       "      <td>POSITIVE</td>\n",
       "      <td>2</td>\n",
       "      <td>definitely got vein whereby purchase related b...</td>\n",
       "    </tr>\n",
       "    <tr>\n",
       "      <th>9999</th>\n",
       "      <td>Highly recommend this entire trilogy. It is ve...</td>\n",
       "      <td>POSITIVE</td>\n",
       "      <td>2</td>\n",
       "      <td>highly recommend entire trilogy well written h...</td>\n",
       "    </tr>\n",
       "  </tbody>\n",
       "</table>\n",
       "<p>10000 rows × 4 columns</p>\n",
       "</div>"
      ],
      "text/plain": [
       "                                                Reviews Sentiment  Label  \\\n",
       "0     I bought both boxed sets, books 1-5.  Really a...  POSITIVE      2   \n",
       "1     I enjoyed this short book. But it was way way ...   NEUTRAL      1   \n",
       "2     I love Nicholas Sparks. I&#8217;ve read everyt...  POSITIVE      2   \n",
       "3     I really enjoyed this adventure and look forwa...  POSITIVE      2   \n",
       "4     It was a decent read.. typical story line. Not...   NEUTRAL      1   \n",
       "...                                                 ...       ...    ...   \n",
       "9995  The whole series was great!  Melody is a fanta...  POSITIVE      2   \n",
       "9996  I didn't thing that much of this book.  I am a...   NEUTRAL      1   \n",
       "9997  It is an emotional TRIP to the past with Trip ...  POSITIVE      2   \n",
       "9998  This definitely got under my veins whereby I h...  POSITIVE      2   \n",
       "9999  Highly recommend this entire trilogy. It is ve...  POSITIVE      2   \n",
       "\n",
       "                                           clean_review  \n",
       "0     bought boxed set book really great series star...  \n",
       "1     enjoyed short book way way short see easily wo...  \n",
       "2     love nicholas spark read everything written wa...  \n",
       "3     really enjoyed adventure look forward reading ...  \n",
       "4     decent read typical story line nothing unsavor...  \n",
       "...                                                 ...  \n",
       "9995  whole series great melody fantastic writer kee...  \n",
       "9996  thing much book boater lot going boat seem rea...  \n",
       "9997  emotional trip past trip layla love ease writi...  \n",
       "9998  definitely got vein whereby purchase related b...  \n",
       "9999  highly recommend entire trilogy well written h...  \n",
       "\n",
       "[10000 rows x 4 columns]"
      ]
     },
     "execution_count": 157,
     "metadata": {},
     "output_type": "execute_result"
    }
   ],
   "source": [
    "# function to clean and pre-process the text.\n",
    "def clean_reviews(review):  \n",
    "    \n",
    "    # 1. Removing html tags\n",
    "    review_text = BeautifulSoup(review,\"lxml\").get_text()\n",
    "    \n",
    "    # 2. Retaining only alphabets.\n",
    "    review_text = re.sub(\"[^a-zA-Z]\",\" \",review_text)\n",
    "    \n",
    "    # 3. Converting to lower case and splitting\n",
    "    word_tokens= review_text.lower().split()\n",
    "    \n",
    "    # 4. Remove stopwords\n",
    "    le=WordNetLemmatizer()\n",
    "    stop_words= set(stopwords.words(\"english\"))     \n",
    "    word_tokens= [le.lemmatize(w) for w in word_tokens if not w in stop_words]\n",
    "    \n",
    "    cleaned_review=\" \".join(word_tokens)\n",
    "    return cleaned_review\n",
    "\n",
    "tokenizer = nltk.data.load('tokenizers/punkt/english.pickle')\n",
    "sentences=[]\n",
    "sum=0\n",
    "for review in Dataset['Reviews']:\n",
    "    sents=tokenizer.tokenize(review.strip())\n",
    "    sum+=len(sents)\n",
    "    for sent in sents:\n",
    "        cleaned_sent=clean_reviews(sent)\n",
    "        sentences.append(cleaned_sent.split()) # can use word_tokenize also.\n",
    "print(sum)\n",
    "print(len(sentences))  # total no of sentences\n",
    "\n",
    "for te in sentences[:5]:\n",
    "    print(te,\"\\n\")\n",
    "\n",
    "Dataset\n",
    "\n",
    "Dataset['clean_review']=Dataset['Reviews'].apply(clean_reviews)\n",
    "\n",
    "# Label Encoding\n",
    "from sklearn.preprocessing import LabelEncoder\n",
    "\n",
    "types = ('POSITIVE', 'NEUTRAL', 'NEGATIVE')\n",
    "labelencoder = LabelEncoder()\n",
    "Dataset['Label'] = labelencoder.fit_transform(Dataset['Sentiment'])\n",
    "Dataset\n",
    "\n",
    "Dataset"
   ]
  },
  {
   "cell_type": "code",
   "execution_count": 158,
   "metadata": {},
   "outputs": [
    {
     "name": "stdout",
     "output_type": "stream",
     "text": [
      "The total number of words are :  27364\n",
      "The no of key-value pairs :  27364\n",
      "476\n"
     ]
    }
   ],
   "source": [
    "import gensim\n",
    "w2v_model=gensim.models.Word2Vec(sentences=sentences,vector_size=300,window=10,min_count=1)\n",
    "\n",
    "w2v_model.train(sentences,epochs=10,total_examples=len(sentences))\n",
    "\n",
    "vocab=w2v_model.wv.key_to_index\n",
    "print(\"The total number of words are : \",len(vocab))\n",
    "\n",
    "vocab=list(vocab.keys())\n",
    "\n",
    "word_vec_dict={}\n",
    "for word in vocab:\n",
    "    word_vec_dict[word]=w2v_model.wv.get_vector(word)\n",
    "print(\"The no of key-value pairs : \",len(word_vec_dict)) \n",
    "\n",
    "maxi=-1\n",
    "for i,rev in enumerate(Dataset['clean_review']):\n",
    "    tokens=rev.split()\n",
    "    if(len(tokens)>maxi):\n",
    "        maxi=len(tokens)\n",
    "print(maxi)\n",
    "\n",
    "tok = Tokenizer()\n",
    "tok.fit_on_texts(Dataset['clean_review'])\n",
    "vocab_size = len(tok.word_index) + 1\n",
    "encd_rev = tok.texts_to_sequences(Dataset['clean_review'])\n",
    "\n",
    "max_rev_len=476  # max lenght of a review\n",
    "vocab_size = len(tok.word_index) + 1  # total no of words\n",
    "embed_dim=300\n",
    "\n",
    "from keras.preprocessing.sequence import pad_sequences\n",
    "pad_rev= pad_sequences(encd_rev, maxlen=max_rev_len, padding='post')\n",
    "pad_rev.shape\n",
    "\n",
    "# now creating the embedding matrix\n",
    "embed_matrix=np.zeros(shape=(vocab_size,embed_dim))\n",
    "for word,i in tok.word_index.items():\n",
    "    embed_vector=word_vec_dict.get(word)\n",
    "    if embed_vector is not None:  # word is in the vocabulary learned by the w2v model\n",
    "        embed_matrix[i]=embed_vector\n"
   ]
  },
  {
   "cell_type": "code",
   "execution_count": 159,
   "metadata": {},
   "outputs": [],
   "source": [
    "from sklearn.model_selection import train_test_split\n",
    "\n",
    "Y=Dataset['Label']  # one hot target as required by NN.\n",
    "x_train,x_test,y_train,y_test=train_test_split(pad_rev,Y,test_size=0.20,random_state=35)\n"
   ]
  },
  {
   "cell_type": "code",
   "execution_count": 160,
   "metadata": {},
   "outputs": [
    {
     "name": "stdout",
     "output_type": "stream",
     "text": [
      "Model: \"sequential_6\"\n",
      "_________________________________________________________________\n",
      "Layer (type)                 Output Shape              Param #   \n",
      "=================================================================\n",
      "embedding_7 (Embedding)      (None, 476, 300)          8209500   \n",
      "_________________________________________________________________\n",
      "lstm_12 (LSTM)               (None, 476, 64)           93440     \n",
      "_________________________________________________________________\n",
      "flatten_1 (Flatten)          (None, 30464)             0         \n",
      "_________________________________________________________________\n",
      "dense_7 (Dense)              (None, 16)                487440    \n",
      "_________________________________________________________________\n",
      "dropout_3 (Dropout)          (None, 16)                0         \n",
      "_________________________________________________________________\n",
      "dense_8 (Dense)              (None, 16)                272       \n",
      "_________________________________________________________________\n",
      "dropout_4 (Dropout)          (None, 16)                0         \n",
      "_________________________________________________________________\n",
      "dense_9 (Dense)              (None, 3)                 51        \n",
      "=================================================================\n",
      "Total params: 8,790,703\n",
      "Trainable params: 8,790,703\n",
      "Non-trainable params: 0\n",
      "_________________________________________________________________\n"
     ]
    }
   ],
   "source": [
    "# Model\n",
    "\n",
    "from keras.initializers import Constant\n",
    "from keras.layers import ReLU\n",
    "from keras.layers import Dropout\n",
    "model=Sequential()\n",
    "model.add(Embedding(input_dim=vocab_size,output_dim=embed_dim,input_length=max_rev_len,embeddings_initializer=Constant(embed_matrix)))\n",
    "model.add(LSTM(64,return_sequences=True)) \n",
    "model.add(Flatten())\n",
    "model.add(Dense(16,activation='relu'))\n",
    "model.add(Dropout(0.50))\n",
    "model.add(Dense(16,activation='relu'))\n",
    "model.add(Dropout(0.20))\n",
    "model.add(Dense(3,activation='sigmoid'))\n",
    "\n",
    "model.summary()\n"
   ]
  },
  {
   "cell_type": "code",
   "execution_count": 162,
   "metadata": {},
   "outputs": [],
   "source": [
    "import tensorflow as tf\n",
    "from tensorflow.keras import optimizers\n",
    "adam = tf.optimizers.Adam(learning_rate = 0.0001)\n",
    "\n",
    "model.compile(optimizer=adam,loss='sparse_categorical_crossentropy',metrics=['accuracy'])\n"
   ]
  },
  {
   "cell_type": "code",
   "execution_count": 163,
   "metadata": {},
   "outputs": [
    {
     "name": "stdout",
     "output_type": "stream",
     "text": [
      "Epoch 1/15\n",
      "125/125 [==============================] - ETA: 0s - loss: 0.9184 - accuracy: 0.6075WARNING:tensorflow:AutoGraph could not transform <function Model.make_test_function.<locals>.test_function at 0x7fa94d5d1280> and will run it as-is.\n",
      "Please report this to the TensorFlow team. When filing the bug, set the verbosity to 10 (on Linux, `export AUTOGRAPH_VERBOSITY=10`) and attach the full output.\n",
      "Cause: closure mismatch, requested ('self', 'step_function'), but source function had ()\n",
      "To silence this warning, decorate the function with @tf.autograph.experimental.do_not_convert\n",
      "WARNING: AutoGraph could not transform <function Model.make_test_function.<locals>.test_function at 0x7fa94d5d1280> and will run it as-is.\n",
      "Please report this to the TensorFlow team. When filing the bug, set the verbosity to 10 (on Linux, `export AUTOGRAPH_VERBOSITY=10`) and attach the full output.\n",
      "Cause: closure mismatch, requested ('self', 'step_function'), but source function had ()\n",
      "To silence this warning, decorate the function with @tf.autograph.experimental.do_not_convert\n",
      "125/125 [==============================] - 123s 947ms/step - loss: 0.9176 - accuracy: 0.6081 - val_loss: 0.5814 - val_accuracy: 0.8265\n",
      "Epoch 2/15\n",
      "125/125 [==============================] - 120s 962ms/step - loss: 0.6752 - accuracy: 0.7577 - val_loss: 0.5467 - val_accuracy: 0.8245\n",
      "Epoch 3/15\n",
      "125/125 [==============================] - 126s 1s/step - loss: 0.5809 - accuracy: 0.7861 - val_loss: 0.4978 - val_accuracy: 0.8260\n",
      "Epoch 4/15\n",
      "125/125 [==============================] - 124s 991ms/step - loss: 0.5442 - accuracy: 0.7969 - val_loss: 0.4792 - val_accuracy: 0.8265\n",
      "Epoch 5/15\n",
      "125/125 [==============================] - 162s 1s/step - loss: 0.5063 - accuracy: 0.8170 - val_loss: 0.4720 - val_accuracy: 0.8265\n",
      "Epoch 6/15\n",
      "125/125 [==============================] - 144s 1s/step - loss: 0.4581 - accuracy: 0.8285 - val_loss: 0.4717 - val_accuracy: 0.8270\n",
      "Epoch 7/15\n",
      "125/125 [==============================] - 170s 1s/step - loss: 0.4441 - accuracy: 0.8311 - val_loss: 0.4783 - val_accuracy: 0.8290\n",
      "Epoch 8/15\n",
      "125/125 [==============================] - 168s 1s/step - loss: 0.4262 - accuracy: 0.8340 - val_loss: 0.4830 - val_accuracy: 0.8115\n",
      "Epoch 9/15\n",
      "125/125 [==============================] - 179s 1s/step - loss: 0.3715 - accuracy: 0.8448 - val_loss: 0.5097 - val_accuracy: 0.8315\n",
      "Epoch 10/15\n",
      "125/125 [==============================] - 186s 1s/step - loss: 0.3388 - accuracy: 0.8556 - val_loss: 0.5841 - val_accuracy: 0.8300\n",
      "Epoch 11/15\n",
      "125/125 [==============================] - 157s 1s/step - loss: 0.3114 - accuracy: 0.8546 - val_loss: 0.4890 - val_accuracy: 0.8220\n",
      "Epoch 12/15\n",
      "125/125 [==============================] - 140s 1s/step - loss: 0.2897 - accuracy: 0.8623 - val_loss: 0.6972 - val_accuracy: 0.8255\n",
      "Epoch 13/15\n",
      "125/125 [==============================] - 146s 1s/step - loss: 0.2659 - accuracy: 0.8634 - val_loss: 0.7240 - val_accuracy: 0.8305\n",
      "Epoch 14/15\n",
      "125/125 [==============================] - 154s 1s/step - loss: 0.2313 - accuracy: 0.8847 - val_loss: 0.8819 - val_accuracy: 0.8160\n",
      "Epoch 15/15\n",
      "125/125 [==============================] - 161s 1s/step - loss: 0.2225 - accuracy: 0.8941 - val_loss: 0.7026 - val_accuracy: 0.8045\n",
      "CPU times: user 1h 25min 52s, sys: 1h 20min 10s, total: 2h 46min 3s\n",
      "Wall time: 37min 41s\n"
     ]
    }
   ],
   "source": [
    "%%time\n",
    "lstm_w2v_hist = model.fit(x_train,y_train,epochs=15,batch_size=64,validation_data=(x_test,y_test))\n",
    "\n"
   ]
  },
  {
   "cell_type": "code",
   "execution_count": 164,
   "metadata": {},
   "outputs": [
    {
     "name": "stdout",
     "output_type": "stream",
     "text": [
      "32/32 [==============================] - 19s 450ms/step\n",
      "              precision    recall  f1-score   support\n",
      "\n",
      "           0       0.38      0.38      0.38       140\n",
      "           1       0.22      0.14      0.17       207\n",
      "           2       0.88      0.92      0.90      1653\n",
      "\n",
      "    accuracy                           0.80      2000\n",
      "   macro avg       0.49      0.48      0.48      2000\n",
      "weighted avg       0.78      0.80      0.79      2000\n",
      "\n"
     ]
    }
   ],
   "source": [
    "from sklearn.metrics import classification_report\n",
    "from sklearn.metrics import f1_score, precision_score, recall_score\n",
    "\n",
    "y_pred = model.predict(x_test, batch_size=64, verbose=1)\n",
    "y_pred_bool = np.argmax(y_pred, axis=1)\n",
    "\n",
    "print(classification_report(y_test, y_pred_bool))"
   ]
  },
  {
   "cell_type": "markdown",
   "metadata": {},
   "source": [
    "# Glove"
   ]
  },
  {
   "cell_type": "code",
   "execution_count": 165,
   "metadata": {},
   "outputs": [],
   "source": [
    "# GloVe\n",
    "\n",
    "def read_glove_vector(glove_vec):\n",
    "    with open(glove_vec, 'r', encoding='UTF-8') as f:\n",
    "        words = set()\n",
    "        word_to_vec_map = {}\n",
    "        for line in f:\n",
    "            w_line = line.split()\n",
    "            curr_word = w_line[0]\n",
    "            word_to_vec_map[curr_word] = np.array(w_line[1:], dtype=np.float64)\n",
    "    return word_to_vec_map\n",
    "\n",
    "word_to_vec_map = read_glove_vector('/Users/kritya/Downloads/glove/glove.6B.50d.txt')\n",
    "\n",
    "maxLen = max_rev_len\n",
    "\n",
    "from keras.layers import LSTM, Activation, Dropout, Dense, Input, Conv1D, MaxPooling1D, GlobalMaxPooling1D\n",
    "from keras.layers.embeddings import Embedding\n",
    "from keras.models import Model\n",
    "import string\n",
    "from sklearn.preprocessing import LabelBinarizer\n",
    "from keras.preprocessing.sequence import pad_sequences\n",
    "import keras\n",
    "from sklearn.model_selection import train_test_split\n",
    "\n",
    "vocab_len = len(words_to_index)+1\n",
    "embed_vector_len = word_to_vec_map['moon'].shape[0]\n",
    "\n",
    "emb_matrix = np.zeros((vocab_len, embed_vector_len))\n",
    "\n",
    "for word, index in words_to_index.items():\n",
    "    embedding_vector = word_to_vec_map.get(word)\n",
    "    if embedding_vector is not None:\n",
    "        emb_matrix[index, :] = embedding_vector\n",
    "\n",
    "embedding_layer = Embedding(input_dim=vocab_len, output_dim=embed_vector_len, input_length=maxLen, weights = [emb_matrix], trainable=False)"
   ]
  },
  {
   "cell_type": "code",
   "execution_count": 166,
   "metadata": {},
   "outputs": [],
   "source": [
    "from sklearn.model_selection import train_test_split\n",
    "\n",
    "Y=Dataset['Label']  # one hot target as required by NN.\n",
    "x_train,x_test,y_train,y_test=train_test_split(pad_rev,Y,test_size=0.20,random_state=35)\n"
   ]
  },
  {
   "cell_type": "code",
   "execution_count": 167,
   "metadata": {},
   "outputs": [
    {
     "name": "stdout",
     "output_type": "stream",
     "text": [
      "Model: \"sequential_7\"\n",
      "_________________________________________________________________\n",
      "Layer (type)                 Output Shape              Param #   \n",
      "=================================================================\n",
      "embedding_9 (Embedding)      (None, 476, 50)           1658700   \n",
      "_________________________________________________________________\n",
      "lstm_13 (LSTM)               (None, 476, 64)           29440     \n",
      "_________________________________________________________________\n",
      "flatten_2 (Flatten)          (None, 30464)             0         \n",
      "_________________________________________________________________\n",
      "dense_10 (Dense)             (None, 16)                487440    \n",
      "_________________________________________________________________\n",
      "dropout_5 (Dropout)          (None, 16)                0         \n",
      "_________________________________________________________________\n",
      "dense_11 (Dense)             (None, 16)                272       \n",
      "_________________________________________________________________\n",
      "dropout_6 (Dropout)          (None, 16)                0         \n",
      "_________________________________________________________________\n",
      "dense_12 (Dense)             (None, 3)                 51        \n",
      "=================================================================\n",
      "Total params: 2,175,903\n",
      "Trainable params: 517,203\n",
      "Non-trainable params: 1,658,700\n",
      "_________________________________________________________________\n"
     ]
    }
   ],
   "source": [
    "# Model\n",
    "\n",
    "from keras.initializers import Constant\n",
    "from keras.layers import ReLU\n",
    "from keras.layers import Dropout\n",
    "model=Sequential()\n",
    "model.add(Embedding(input_dim=vocab_len, output_dim=embed_vector_len, input_length=maxLen, weights = [emb_matrix], trainable=False))\n",
    "model.add(LSTM(64,return_sequences=True)) \n",
    "model.add(Flatten())\n",
    "model.add(Dense(16,activation='relu'))\n",
    "model.add(Dropout(0.50))\n",
    "model.add(Dense(16,activation='relu'))\n",
    "model.add(Dropout(0.20))\n",
    "model.add(Dense(3,activation='sigmoid'))\n",
    "\n",
    "model.summary()"
   ]
  },
  {
   "cell_type": "code",
   "execution_count": 168,
   "metadata": {},
   "outputs": [],
   "source": [
    "import tensorflow as tf\n",
    "from tensorflow.keras import optimizers\n",
    "adam = tf.optimizers.Adam(learning_rate = 0.0001)\n",
    "\n",
    "model.compile(optimizer=adam,loss='sparse_categorical_crossentropy',metrics=['accuracy'])"
   ]
  },
  {
   "cell_type": "code",
   "execution_count": 169,
   "metadata": {},
   "outputs": [
    {
     "name": "stdout",
     "output_type": "stream",
     "text": [
      "Epoch 1/15\n",
      "125/125 [==============================] - ETA: 0s - loss: 0.8186 - accuracy: 0.7503WARNING:tensorflow:AutoGraph could not transform <function Model.make_test_function.<locals>.test_function at 0x7faa908fca60> and will run it as-is.\n",
      "Please report this to the TensorFlow team. When filing the bug, set the verbosity to 10 (on Linux, `export AUTOGRAPH_VERBOSITY=10`) and attach the full output.\n",
      "Cause: closure mismatch, requested ('self', 'step_function'), but source function had ()\n",
      "To silence this warning, decorate the function with @tf.autograph.experimental.do_not_convert\n",
      "WARNING: AutoGraph could not transform <function Model.make_test_function.<locals>.test_function at 0x7faa908fca60> and will run it as-is.\n",
      "Please report this to the TensorFlow team. When filing the bug, set the verbosity to 10 (on Linux, `export AUTOGRAPH_VERBOSITY=10`) and attach the full output.\n",
      "Cause: closure mismatch, requested ('self', 'step_function'), but source function had ()\n",
      "To silence this warning, decorate the function with @tf.autograph.experimental.do_not_convert\n",
      "125/125 [==============================] - 19s 141ms/step - loss: 0.8180 - accuracy: 0.7505 - val_loss: 0.5916 - val_accuracy: 0.8265\n",
      "Epoch 2/15\n",
      "125/125 [==============================] - 18s 145ms/step - loss: 0.6596 - accuracy: 0.8178 - val_loss: 0.5906 - val_accuracy: 0.8265\n",
      "Epoch 3/15\n",
      "125/125 [==============================] - 17s 140ms/step - loss: 0.6427 - accuracy: 0.8267 - val_loss: 0.5899 - val_accuracy: 0.8265\n",
      "Epoch 4/15\n",
      "125/125 [==============================] - 16s 130ms/step - loss: 0.6369 - accuracy: 0.8316 - val_loss: 0.5817 - val_accuracy: 0.8265\n",
      "Epoch 5/15\n",
      "125/125 [==============================] - 18s 140ms/step - loss: 0.6235 - accuracy: 0.8326 - val_loss: 0.5810 - val_accuracy: 0.8265\n",
      "Epoch 6/15\n",
      "125/125 [==============================] - 23s 187ms/step - loss: 0.5983 - accuracy: 0.8467 - val_loss: 0.6045 - val_accuracy: 0.8265\n",
      "Epoch 7/15\n",
      "125/125 [==============================] - 26s 206ms/step - loss: 0.6093 - accuracy: 0.8401 - val_loss: 0.5993 - val_accuracy: 0.8265\n",
      "Epoch 8/15\n",
      "125/125 [==============================] - 24s 195ms/step - loss: 0.6121 - accuracy: 0.8341 - val_loss: 0.5768 - val_accuracy: 0.8265\n",
      "Epoch 9/15\n",
      "125/125 [==============================] - 24s 190ms/step - loss: 0.5497 - accuracy: 0.8499 - val_loss: 0.5820 - val_accuracy: 0.8265\n",
      "Epoch 10/15\n",
      "125/125 [==============================] - 25s 201ms/step - loss: 0.5705 - accuracy: 0.8459 - val_loss: 0.5777 - val_accuracy: 0.8265\n",
      "Epoch 11/15\n",
      "125/125 [==============================] - 28s 228ms/step - loss: 0.5741 - accuracy: 0.8383 - val_loss: 0.5786 - val_accuracy: 0.8265\n",
      "Epoch 12/15\n",
      "125/125 [==============================] - 27s 215ms/step - loss: 0.5522 - accuracy: 0.8423 - val_loss: 0.5791 - val_accuracy: 0.8265\n",
      "Epoch 13/15\n",
      "125/125 [==============================] - 26s 208ms/step - loss: 0.5535 - accuracy: 0.8367 - val_loss: 0.5789 - val_accuracy: 0.8265\n",
      "Epoch 14/15\n",
      "125/125 [==============================] - 27s 215ms/step - loss: 0.5408 - accuracy: 0.8461 - val_loss: 0.5808 - val_accuracy: 0.8265\n",
      "Epoch 15/15\n",
      "125/125 [==============================] - 25s 202ms/step - loss: 0.5391 - accuracy: 0.8388 - val_loss: 0.5890 - val_accuracy: 0.8265\n",
      "CPU times: user 12min 23s, sys: 6min 30s, total: 18min 54s\n",
      "Wall time: 5min 43s\n"
     ]
    }
   ],
   "source": [
    "%%time\n",
    "lstm_glove_hist = model.fit(x_train,y_train,epochs=15,batch_size=64,validation_data=(x_test,y_test))\n"
   ]
  },
  {
   "cell_type": "code",
   "execution_count": 170,
   "metadata": {},
   "outputs": [
    {
     "name": "stdout",
     "output_type": "stream",
     "text": [
      "32/32 [==============================] - 3s 74ms/step\n",
      "              precision    recall  f1-score   support\n",
      "\n",
      "           0       0.00      0.00      0.00       140\n",
      "           1       0.00      0.00      0.00       207\n",
      "           2       0.83      1.00      0.91      1653\n",
      "\n",
      "    accuracy                           0.83      2000\n",
      "   macro avg       0.28      0.33      0.30      2000\n",
      "weighted avg       0.68      0.83      0.75      2000\n",
      "\n"
     ]
    },
    {
     "name": "stderr",
     "output_type": "stream",
     "text": [
      "/Users/kritya/opt/anaconda3/lib/python3.8/site-packages/sklearn/metrics/_classification.py:1221: UndefinedMetricWarning: Precision and F-score are ill-defined and being set to 0.0 in labels with no predicted samples. Use `zero_division` parameter to control this behavior.\n",
      "  _warn_prf(average, modifier, msg_start, len(result))\n"
     ]
    }
   ],
   "source": [
    "from sklearn.metrics import classification_report\n",
    "from sklearn.metrics import f1_score, precision_score, recall_score\n",
    "\n",
    "y_pred = model.predict(x_test, batch_size=64, verbose=1)\n",
    "y_pred_bool = np.argmax(y_pred, axis=1)\n",
    "\n",
    "print(classification_report(y_test, y_pred_bool))"
   ]
  },
  {
   "cell_type": "code",
   "execution_count": null,
   "metadata": {},
   "outputs": [],
   "source": []
  },
  {
   "cell_type": "code",
   "execution_count": null,
   "metadata": {},
   "outputs": [],
   "source": []
  },
  {
   "cell_type": "markdown",
   "metadata": {},
   "source": [
    "# unique words embedding"
   ]
  },
  {
   "cell_type": "code",
   "execution_count": 173,
   "metadata": {},
   "outputs": [
    {
     "name": "stderr",
     "output_type": "stream",
     "text": [
      " 26%|██▋       | 2103/8000 [00:00<00:00, 21025.56it/s]"
     ]
    },
    {
     "name": "stdout",
     "output_type": "stream",
     "text": [
      "train: 8000 (0.80)\n",
      "test: 2000 (0.20)\n",
      "476\n"
     ]
    },
    {
     "name": "stderr",
     "output_type": "stream",
     "text": [
      "100%|██████████| 8000/8000 [00:00<00:00, 20331.67it/s]\n"
     ]
    },
    {
     "data": {
      "text/plain": [
       "(8000, 476)"
      ]
     },
     "execution_count": 173,
     "metadata": {},
     "output_type": "execute_result"
    }
   ],
   "source": [
    "from sklearn.model_selection import train_test_split\n",
    "\n",
    "train_size = 0.60\n",
    "val_size = 0.20\n",
    "test_size = 0.20\n",
    "\n",
    "X = Dataset['Reviews']\n",
    "y = Dataset['Label']\n",
    "\n",
    "# Split (train)\n",
    "X_train, X_test, y_train, y_test = train_test_split(X, y, train_size=0.80)\n",
    "# Split (test and val)\n",
    "\n",
    "print(f\"train: {len(X_train)} ({len(X_train)/len(X):.2f})\\n\"\n",
    "      f\"test: {len(X_test)} ({len(X_test)/len(X):.2f})\")\n",
    "\n",
    "# max length of review calculation\n",
    "maxi=-1\n",
    "for i,rev in enumerate(Dataset['clean_review']):\n",
    "    tokens=rev.split()\n",
    "    if(len(tokens)>maxi):\n",
    "        maxi=len(tokens)\n",
    "print(maxi)\n",
    "\n",
    "#Tokenize\n",
    "from keras.preprocessing.text import Tokenizer\n",
    "\n",
    "# keras tokenzier initialization\n",
    "unique_words = set()\n",
    "len_max = 0\n",
    "for sent in tqdm(x_train):\n",
    "    unique_words.update(sent)\n",
    "    if len_max < len(sent):\n",
    "        len_max = len(sent)\n",
    "len(list(unique_words)), len_max\n",
    "\n",
    "wor_len = len(list(unique_words))\n",
    "\n",
    "tok = Tokenizer(num_words=wor_len)\n",
    "tok.fit_on_texts(Dataset['clean_review'])\n",
    "words_to_index = tok.word_index\n",
    "encd_rev = tok.texts_to_sequences(Dataset['clean_review'])\n",
    "\n",
    "len(words_to_index)\n",
    "\n",
    "max_rev_len=476  # max lenght of a review\n",
    "vocab_size = len(tok.word_index) + 1  # total no of words\n",
    "embed_dim=50\n",
    "\n",
    "from keras.preprocessing.sequence import pad_sequences\n",
    "pad_rev= pad_sequences(encd_rev, maxlen=max_rev_len, padding='post')\n",
    "pad_rev.shape \n",
    "\n",
    "vocab_len = len(words_to_index)+1\n",
    "embed_vector_len = 50\n",
    "\n",
    "emb_matrix = np.zeros((vocab_len, embed_vector_len))\n",
    "\n",
    "for word, index in words_to_index.items():\n",
    "    embedding_vector = word_to_vec_map.get(word)\n",
    "    if embedding_vector is not None:\n",
    "        emb_matrix[index, :] = embedding_vector\n",
    "\n",
    "embedding_layer = Embedding(input_dim=vocab_len, output_dim=embed_vector_len, input_length=maxLen, weights = [emb_matrix], trainable=False)\n",
    "\n",
    "from keras.preprocessing.text import Tokenizer\n",
    "from keras.preprocessing import sequence\n",
    "tokenizer = Tokenizer()\n",
    "X_train_indices = tokenizer.texts_to_sequences(X_train)\n",
    "X_train_indices = pad_sequences(X_train_indices, maxlen=maxLen)\n",
    "X_train_indices.shape\n"
   ]
  },
  {
   "cell_type": "code",
   "execution_count": 175,
   "metadata": {},
   "outputs": [
    {
     "name": "stdout",
     "output_type": "stream",
     "text": [
      "Model: \"sequential_9\"\n",
      "_________________________________________________________________\n",
      "Layer (type)                 Output Shape              Param #   \n",
      "=================================================================\n",
      "embedding_13 (Embedding)     (None, 476, 50)           1368250   \n",
      "_________________________________________________________________\n",
      "lstm_15 (LSTM)               (None, 476, 64)           29440     \n",
      "_________________________________________________________________\n",
      "flatten_4 (Flatten)          (None, 30464)             0         \n",
      "_________________________________________________________________\n",
      "dense_14 (Dense)             (None, 16)                487440    \n",
      "_________________________________________________________________\n",
      "dropout_7 (Dropout)          (None, 16)                0         \n",
      "_________________________________________________________________\n",
      "dense_15 (Dense)             (None, 16)                272       \n",
      "_________________________________________________________________\n",
      "dropout_8 (Dropout)          (None, 16)                0         \n",
      "_________________________________________________________________\n",
      "dense_16 (Dense)             (None, 3)                 51        \n",
      "=================================================================\n",
      "Total params: 1,885,453\n",
      "Trainable params: 517,203\n",
      "Non-trainable params: 1,368,250\n",
      "_________________________________________________________________\n"
     ]
    }
   ],
   "source": [
    "# Model\n",
    "\n",
    "from keras.initializers import Constant\n",
    "from keras.layers import ReLU\n",
    "from keras.layers import Dropout\n",
    "model=Sequential()\n",
    "model.add(Embedding(input_dim=vocab_len, output_dim=embed_vector_len, input_length=maxLen, weights = [emb_matrix], trainable=False))\n",
    "model.add(LSTM(64,return_sequences=True)) \n",
    "model.add(Flatten())\n",
    "model.add(Dense(16,activation='relu'))\n",
    "model.add(Dropout(0.50))\n",
    "model.add(Dense(16,activation='relu'))\n",
    "model.add(Dropout(0.20))\n",
    "model.add(Dense(3,activation='sigmoid'))\n",
    "\n",
    "model.summary()\n"
   ]
  },
  {
   "cell_type": "code",
   "execution_count": 176,
   "metadata": {},
   "outputs": [],
   "source": [
    "import tensorflow as tf\n",
    "from tensorflow.keras import optimizers\n",
    "adam = tf.optimizers.Adam(learning_rate = 0.0001)\n",
    "\n",
    "model.compile(optimizer=adam,loss='sparse_categorical_crossentropy',metrics=['accuracy'])"
   ]
  },
  {
   "cell_type": "code",
   "execution_count": 177,
   "metadata": {},
   "outputs": [
    {
     "name": "stdout",
     "output_type": "stream",
     "text": [
      "Epoch 1/15\n",
      "125/125 [==============================] - ETA: 0s - loss: 1.0955 - accuracy: 0.8120WARNING:tensorflow:AutoGraph could not transform <function Model.make_test_function.<locals>.test_function at 0x7fa94d705310> and will run it as-is.\n",
      "Please report this to the TensorFlow team. When filing the bug, set the verbosity to 10 (on Linux, `export AUTOGRAPH_VERBOSITY=10`) and attach the full output.\n",
      "Cause: closure mismatch, requested ('self', 'step_function'), but source function had ()\n",
      "To silence this warning, decorate the function with @tf.autograph.experimental.do_not_convert\n",
      "WARNING: AutoGraph could not transform <function Model.make_test_function.<locals>.test_function at 0x7fa94d705310> and will run it as-is.\n",
      "Please report this to the TensorFlow team. When filing the bug, set the verbosity to 10 (on Linux, `export AUTOGRAPH_VERBOSITY=10`) and attach the full output.\n",
      "Cause: closure mismatch, requested ('self', 'step_function'), but source function had ()\n",
      "To silence this warning, decorate the function with @tf.autograph.experimental.do_not_convert\n",
      "125/125 [==============================] - 17s 129ms/step - loss: 1.0955 - accuracy: 0.8122 - val_loss: 1.1133 - val_accuracy: 0.3610\n",
      "Epoch 2/15\n",
      "125/125 [==============================] - 16s 131ms/step - loss: 1.0830 - accuracy: 0.8415 - val_loss: 1.1008 - val_accuracy: 0.5305\n",
      "Epoch 3/15\n",
      "125/125 [==============================] - 17s 137ms/step - loss: 1.0711 - accuracy: 0.8344 - val_loss: 1.0885 - val_accuracy: 0.5960\n",
      "Epoch 4/15\n",
      "125/125 [==============================] - 18s 142ms/step - loss: 1.0589 - accuracy: 0.8374 - val_loss: 1.0764 - val_accuracy: 0.6470\n",
      "Epoch 5/15\n",
      "125/125 [==============================] - 18s 145ms/step - loss: 1.0474 - accuracy: 0.8353 - val_loss: 1.0644 - val_accuracy: 0.6820\n",
      "Epoch 6/15\n",
      "125/125 [==============================] - 28s 224ms/step - loss: 1.0357 - accuracy: 0.8364 - val_loss: 1.0527 - val_accuracy: 0.7170\n",
      "Epoch 7/15\n",
      "125/125 [==============================] - 34s 268ms/step - loss: 1.0239 - accuracy: 0.8394 - val_loss: 1.0412 - val_accuracy: 0.7540\n",
      "Epoch 8/15\n",
      "125/125 [==============================] - 23s 183ms/step - loss: 1.0135 - accuracy: 0.8348 - val_loss: 1.0298 - val_accuracy: 0.7800\n",
      "Epoch 9/15\n",
      "125/125 [==============================] - 20s 163ms/step - loss: 1.0010 - accuracy: 0.8426 - val_loss: 1.0186 - val_accuracy: 0.8020\n",
      "Epoch 10/15\n",
      "125/125 [==============================] - 23s 181ms/step - loss: 0.9915 - accuracy: 0.8361 - val_loss: 1.0077 - val_accuracy: 0.8155\n",
      "Epoch 11/15\n",
      "125/125 [==============================] - 24s 189ms/step - loss: 0.9808 - accuracy: 0.8364 - val_loss: 0.9969 - val_accuracy: 0.8240\n",
      "Epoch 12/15\n",
      "125/125 [==============================] - 21s 168ms/step - loss: 0.9720 - accuracy: 0.8304 - val_loss: 0.9862 - val_accuracy: 0.8315\n",
      "Epoch 13/15\n",
      "125/125 [==============================] - 21s 165ms/step - loss: 0.9603 - accuracy: 0.8355 - val_loss: 0.9757 - val_accuracy: 0.8350\n",
      "Epoch 14/15\n",
      "125/125 [==============================] - 23s 184ms/step - loss: 0.9506 - accuracy: 0.8344 - val_loss: 0.9655 - val_accuracy: 0.8355\n",
      "Epoch 15/15\n",
      "125/125 [==============================] - 23s 186ms/step - loss: 0.9408 - accuracy: 0.8342 - val_loss: 0.9553 - val_accuracy: 0.8360\n",
      "CPU times: user 11min 44s, sys: 6min 14s, total: 17min 58s\n",
      "Wall time: 5min 25s\n"
     ]
    }
   ],
   "source": [
    "%%time\n",
    "lstm_wemm_hist = model.fit(X_train_indices,y_train,epochs=15,batch_size=64,validation_data=(x_test,y_test))"
   ]
  },
  {
   "cell_type": "code",
   "execution_count": 178,
   "metadata": {},
   "outputs": [
    {
     "name": "stdout",
     "output_type": "stream",
     "text": [
      "32/32 [==============================] - 3s 69ms/step\n",
      "              precision    recall  f1-score   support\n",
      "\n",
      "           0       0.00      0.00      0.00       128\n",
      "           1       0.00      0.00      0.00       197\n",
      "           2       0.84      1.00      0.91      1675\n",
      "\n",
      "    accuracy                           0.84      2000\n",
      "   macro avg       0.28      0.33      0.30      2000\n",
      "weighted avg       0.70      0.84      0.76      2000\n",
      "\n"
     ]
    }
   ],
   "source": [
    "from sklearn.metrics import classification_report\n",
    "from sklearn.metrics import f1_score, precision_score, recall_score\n",
    "\n",
    "y_pred = model.predict(x_test, batch_size=64, verbose=1)\n",
    "y_pred_bool = np.argmax(y_pred, axis=1)\n",
    "\n",
    "print(classification_report(y_test, y_pred_bool))"
   ]
  },
  {
   "cell_type": "code",
   "execution_count": null,
   "metadata": {},
   "outputs": [],
   "source": []
  },
  {
   "cell_type": "code",
   "execution_count": null,
   "metadata": {},
   "outputs": [],
   "source": []
  },
  {
   "cell_type": "code",
   "execution_count": null,
   "metadata": {},
   "outputs": [],
   "source": []
  },
  {
   "cell_type": "code",
   "execution_count": 179,
   "metadata": {},
   "outputs": [
    {
     "data": {
      "image/png": "[encoded data removed]",
      "text/plain": [
       "<Figure size 432x288 with 1 Axes>"
      ]
     },
     "metadata": {
      "needs_background": "light"
     },
     "output_type": "display_data"
    }
   ],
   "source": [
    "withoutemm = lstm_wemm_hist.history['accuracy']\n",
    "glove = lstm_glove_hist.history['accuracy']\n",
    "word2vec = lstm_w2v_hist.history['accuracy']\n",
    "epochs = range(1,16)\n",
    "plt.plot(epochs, withoutemm, 'g', label='Unique words embedding accuracy')\n",
    "plt.plot(epochs, glove, 'b', label='Glove accuracy')\n",
    "plt.plot(epochs, word2vec, 'r', label='Word2vec accuracy')\n",
    "plt.title('LSTM Models Accuracy')\n",
    "plt.xlabel('Epochs')\n",
    "plt.ylabel('Accuracy')\n",
    "plt.legend()\n",
    "plt.show()"
   ]
  },
  {
   "cell_type": "code",
   "execution_count": 180,
   "metadata": {},
   "outputs": [
    {
     "data": {
      "image/png": "[encoded data removed]",
      "text/plain": [
       "<IPython.core.display.Image object>"
      ]
     },
     "execution_count": 180,
     "metadata": {},
     "output_type": "execute_result"
    }
   ],
   "source": [
    "tf.keras.utils.plot_model(model, \"multi_input_and_output_model.png\", show_shapes=True)"
   ]
  },
  {
   "cell_type": "code",
   "execution_count": null,
   "metadata": {},
   "outputs": [],
   "source": []
  }
 ],
 "metadata": {
  "kernelspec": {
   "display_name": "Python 3",
   "language": "python",
   "name": "python3"
  },
  "language_info": {
   "codemirror_mode": {
    "name": "ipython",
    "version": 3
   },
   "file_extension": ".py",
   "mimetype": "text/x-python",
   "name": "python",
   "nbconvert_exporter": "python",
   "pygments_lexer": "ipython3",
   "version": "3.8.5"
  }
 },
 "nbformat": 4,
 "nbformat_minor": 4
}
