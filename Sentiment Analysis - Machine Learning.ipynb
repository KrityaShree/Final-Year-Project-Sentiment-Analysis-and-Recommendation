{
 "cells": [
  {
   "cell_type": "markdown",
   "metadata": {},
   "source": [
    "# Sentiment Analysis using Machine Learning Algorithms"
   ]
  },
  {
   "cell_type": "markdown",
   "metadata": {},
   "source": [
    "## Dataset"
   ]
  },
  {
   "cell_type": "code",
   "execution_count": 1,
   "metadata": {},
   "outputs": [],
   "source": [
    "import numpy as np\n",
    "import pandas as pd\n",
    "import json\n",
    "import seaborn as sns\n",
    "import matplotlib.pyplot as plt\n",
    "from tqdm import tqdm"
   ]
  },
  {
   "cell_type": "code",
   "execution_count": 2,
   "metadata": {},
   "outputs": [
    {
     "name": "stdout",
     "output_type": "stream",
     "text": [
      "Review : \n",
      " I bought both boxed sets, books 1-5.  Really a great series!  Start book 1 three weeks ago and just finished book 5.  Sloane Monroe is a great character and being able to follow her through both private life and her PI life gets a reader very involved!  Although clues may be right in front of the reader, there are twists and turns that keep one guessing until the last page!  These are books you won't be disappointed with.\n",
      "Sentiment : POSITIVE\n"
     ]
    }
   ],
   "source": [
    "class Sentiment:\n",
    "    NEGATIVE = \"NEGATIVE\"\n",
    "    NEUTRAL = \"NEUTRAL\"\n",
    "    POSITIVE = \"POSITIVE\"\n",
    "\n",
    "class Review:\n",
    "    def __init__(self, text, score):\n",
    "        self.text = text\n",
    "        self.score = score\n",
    "        self.sentiment = self.get_sentiment()\n",
    "        \n",
    "    def get_sentiment(self):\n",
    "        if self.score <= 2:\n",
    "            return Sentiment.NEGATIVE\n",
    "        elif self.score == 3:\n",
    "            return Sentiment.NEUTRAL\n",
    "        else: #Score of 4 or 5\n",
    "            return Sentiment.POSITIVE\n",
    "        \n",
    "        \n",
    "file_name = '/Users/kritya/Downloads/Books_large.json'\n",
    "\n",
    "reviews = []\n",
    "with open(file_name) as f:\n",
    "    for line in f:\n",
    "        review = json.loads(line)\n",
    "        reviews.append(Review(review[\"reviewText\"], review[\"overall\"]))\n",
    "        \n",
    "print('Review : \\n', reviews[0].text)\n",
    "print('Sentiment :', reviews[0].sentiment)\n"
   ]
  },
  {
   "cell_type": "code",
   "execution_count": 3,
   "metadata": {},
   "outputs": [],
   "source": [
    "from sklearn.model_selection import train_test_split\n",
    "\n",
    "training, test = train_test_split(reviews, test_size=0.20, random_state=82)\n",
    "\n",
    "train_x = [x.text for x in training]\n",
    "train_y = [x.sentiment for x in training]\n",
    "\n",
    "test_x = [x.text for x in test]\n",
    "test_y = [x.sentiment for x in test]"
   ]
  },
  {
   "cell_type": "code",
   "execution_count": 4,
   "metadata": {},
   "outputs": [],
   "source": [
    "class ReviewContainer:\n",
    "    def __init__(self, reviews):\n",
    "        self.reviews = reviews\n",
    "        \n",
    "    def get_text(self):\n",
    "        return [x.text for x in self.reviews]\n",
    "    \n",
    "    def get_sentiment(self):\n",
    "        return [x.sentiment for x in self.reviews]\n",
    "        \n",
    "    def evenly_distribute(self):\n",
    "        negative = list(filter(lambda x: x.sentiment == Sentiment.NEGATIVE, self.reviews))\n",
    "        positive = list(filter(lambda x: x.sentiment == Sentiment.POSITIVE, self.reviews))\n",
    "        neutral = list(filter(lambda x: x.sentiment == Sentiment.NEUTRAL, self.reviews))\n",
    "        positive_shrunk = positive[:len(negative)]\n",
    "        neutral_shrunk = neutral[:len(negative)]\n",
    "        self.reviews = negative + positive_shrunk + neutral_shrunk\n",
    "        np.random.shuffle(self.reviews)"
   ]
  },
  {
   "cell_type": "code",
   "execution_count": 5,
   "metadata": {},
   "outputs": [],
   "source": [
    "reviews_container = ReviewContainer(reviews)\n",
    "\n",
    "#reviews_container.evenly_distribute()\n",
    "text = reviews_container.get_text()\n",
    "sentiment = reviews_container.get_sentiment()"
   ]
  },
  {
   "cell_type": "code",
   "execution_count": 6,
   "metadata": {},
   "outputs": [],
   "source": [
    "Dataset = pd.DataFrame({\n",
    "    'Reviews':text,\n",
    "    'Sentiment':sentiment\n",
    "})"
   ]
  },
  {
   "cell_type": "code",
   "execution_count": 7,
   "metadata": {},
   "outputs": [
    {
     "name": "stdout",
     "output_type": "stream",
     "text": [
      "<class 'pandas.core.frame.DataFrame'>\n",
      "RangeIndex: 10000 entries, 0 to 9999\n",
      "Data columns (total 2 columns):\n",
      " #   Column     Non-Null Count  Dtype \n",
      "---  ------     --------------  ----- \n",
      " 0   Reviews    10000 non-null  object\n",
      " 1   Sentiment  10000 non-null  object\n",
      "dtypes: object(2)\n",
      "memory usage: 156.4+ KB\n"
     ]
    }
   ],
   "source": [
    "Dataset.info()"
   ]
  },
  {
   "cell_type": "code",
   "execution_count": 8,
   "metadata": {},
   "outputs": [
    {
     "data": {
      "image/png": "[encoded data removed]",
      "text/plain": [
       "<Figure size 432x288 with 1 Axes>"
      ]
     },
     "metadata": {
      "needs_background": "light"
     },
     "output_type": "display_data"
    }
   ],
   "source": [
    "positive = sentiment.count(Sentiment.POSITIVE)\n",
    "negative = sentiment.count(Sentiment.NEGATIVE)\n",
    "neutral = sentiment.count(Sentiment.NEUTRAL)\n",
    "\n",
    "ax = sns.countplot(x ='Sentiment', data = Dataset, palette = \"Accent\")\n",
    "for p in ax.patches:\n",
    "    ax.annotate('{:.1f}'.format(p.get_height()), (p.get_x()+0.25, p.get_height()+0.01))"
   ]
  },
  {
   "cell_type": "code",
   "execution_count": 9,
   "metadata": {},
   "outputs": [
    {
     "data": {
      "image/png": "[encoded data removed]",
      "text/plain": [
       "<Figure size 504x360 with 1 Axes>"
      ]
     },
     "metadata": {
      "needs_background": "light"
     },
     "output_type": "display_data"
    }
   ],
   "source": [
    "plt.rcParams[\"figure.figsize\"] = [7, 5]\n",
    "plt.rcParams[\"figure.autolayout\"] = True\n",
    "\n",
    "ax = sns.countplot(x ='Sentiment', data = Dataset, palette = \"coolwarm\")\n",
    "for p in ax.patches:\n",
    "    ax.annotate('{:.1f}'.format(p.get_height()), (p.get_x()+0.25, p.get_height()+0.01))\n",
    "\n"
   ]
  },
  {
   "cell_type": "code",
   "execution_count": null,
   "metadata": {},
   "outputs": [],
   "source": []
  },
  {
   "cell_type": "markdown",
   "metadata": {},
   "source": [
    "## Pre-Processing"
   ]
  },
  {
   "cell_type": "code",
   "execution_count": 10,
   "metadata": {},
   "outputs": [
    {
     "name": "stderr",
     "output_type": "stream",
     "text": [
      "100%|██████████| 8000/8000 [00:01<00:00, 5419.34it/s]\n",
      "100%|██████████| 2000/2000 [00:00<00:00, 5803.58it/s]\n"
     ]
    }
   ],
   "source": [
    "#train_x\n",
    "#train_x\n",
    "\n",
    "from tqdm import tqdm\n",
    "from sklearn.model_selection import train_test_split\n",
    "import nltk\n",
    "from nltk import pos_tag, word_tokenize\n",
    "from nltk.tokenize import word_tokenize\n",
    "from nltk.stem import WordNetLemmatizer\n",
    "lemmatizer = WordNetLemmatizer()\n",
    "from bs4 import BeautifulSoup\n",
    "import re\n",
    "\n",
    "def posTag(review):\n",
    "    tagged_text_list=[]\n",
    "    for text in review:\n",
    "        tagged_text_list.append(pos_tag(word_tokenize(text)))\n",
    "    return tagged_text_list\n",
    "\n",
    "def filterTag(tagged_review):\n",
    "    final_text_list=[]\n",
    "    for text_list in tagged_review:\n",
    "        final_text=[]\n",
    "        for word,tag in text_list:\n",
    "            if tag in ['NN','NNS','NNP','NNPS','RB','RBR','RBS','JJ','JJR','JJS','VB','VBD','VBG','VBN','VBP','VBZ']:\n",
    "                final_text.append(word)\n",
    "        final_text_list.append(' '.join(final_text))\n",
    "    return final_text_list\n",
    "\n",
    "def clean_sentences(df):\n",
    "    reviews = []\n",
    "\n",
    "    for sent in tqdm(df):\n",
    "        \n",
    "        #remove html content\n",
    "        review_text = BeautifulSoup(sent).get_text()\n",
    "        \n",
    "        #remove non-alphabetic characters\n",
    "        review_text = re.sub(\"[.,/\\)(!?:;-='_...\"\"@#_]\", \" \", review_text)\n",
    "    \n",
    "        reviews.append(review_text)\n",
    "\n",
    "    return(reviews)\n",
    "\n",
    "train_x = clean_sentences(train_x)\n",
    "train_x = posTag(train_x)\n",
    "train_x = filterTag(train_x)\n",
    "\n",
    "test_x = clean_sentences(test_x)\n",
    "test_x = posTag(test_x)\n",
    "test_x = filterTag(test_x)"
   ]
  },
  {
   "cell_type": "code",
   "execution_count": 11,
   "metadata": {},
   "outputs": [
    {
     "name": "stdout",
     "output_type": "stream",
     "text": [
      "Tom Corson-Knowles makes complicated simple Need say more walks techniques producing manuscript conception right finished product ready publish Amazon Great book Thanks\n",
      "[[0. 0. 0. ... 0. 0. 0.]]\n"
     ]
    }
   ],
   "source": [
    "# TF-IDF\n",
    "\n",
    "from sklearn.feature_extraction.text import TfidfVectorizer\n",
    "\n",
    "vectorizer = TfidfVectorizer()\n",
    "train_x_vectors = vectorizer.fit_transform(train_x)\n",
    "\n",
    "test_x_vectors = vectorizer.transform(test_x)\n",
    "\n",
    "print(train_x[0])\n",
    "print(train_x_vectors[0].toarray())"
   ]
  },
  {
   "cell_type": "markdown",
   "metadata": {},
   "source": [
    "## Logistic Regression"
   ]
  },
  {
   "cell_type": "code",
   "execution_count": 12,
   "metadata": {},
   "outputs": [
    {
     "name": "stdout",
     "output_type": "stream",
     "text": [
      "CPU times: user 2 µs, sys: 0 ns, total: 2 µs\n",
      "Wall time: 2.86 µs\n",
      "Sample test review : \n",
      " \"fiancee are trying do things healthy days eating eggs source know has nothing do GMOs is latest addition book is full info beginners need even limited space coops agree Dr Stone s comment raising chickens gardening going hand hand feed chickens kitchen vegetable scraps thus get fertilizer return m unsure is advise allow chickens run garden couple hours day did about minutes chickens were close eliminating tomato plants are privvy large coop intend add more neighbors are loving fresh eggs maybe not so much rooster wake calls Thankfully live community lake most homeowners only visit weekends read only chickens be raised certain city limits wonder book works themI appreciated section avoiding loss are many animals chickens snakes being worst waterfront community\"\n",
      "Prediction using Logistic Regression : POSITIVE\n"
     ]
    }
   ],
   "source": [
    "# classification using logistic regression model\n",
    "\n",
    "from sklearn.linear_model import LogisticRegression\n",
    "%time\n",
    "\n",
    "clf_log = LogisticRegression()\n",
    "clf_log.fit(train_x_vectors, train_y)\n",
    "\n",
    "print(f'Sample test review : \\n \"{test_x[7]}\"')\n",
    "\n",
    "print('Prediction using Logistic Regression :', clf_log.predict(test_x_vectors[7])[0])"
   ]
  },
  {
   "cell_type": "code",
   "execution_count": 13,
   "metadata": {},
   "outputs": [
    {
     "name": "stdout",
     "output_type": "stream",
     "text": [
      "LOGISTIC REGRESSION OF UNBALANCED SENTIMENT DATASET\n",
      "\n",
      "Mean accuracy of Logistic Regression : 0.834\n",
      "Precision Score:  [0.84324884 0.7826087  0.45454545]\n",
      "Recall:  [0.99390244 0.11764706 0.09661836]\n",
      "Logistic regression f1 score for POS, NEG and NEU : [0.91239854 0.20454545 0.15936255]\n",
      "              precision    recall  f1-score   support\n",
      "\n",
      "    NEGATIVE       0.78      0.12      0.20       153\n",
      "     NEUTRAL       0.45      0.10      0.16       207\n",
      "    POSITIVE       0.84      0.99      0.91      1640\n",
      "\n",
      "    accuracy                           0.83      2000\n",
      "   macro avg       0.69      0.40      0.43      2000\n",
      "weighted avg       0.80      0.83      0.78      2000\n",
      "\n"
     ]
    }
   ],
   "source": [
    "# Calculate Metrics\n",
    "from sklearn.metrics import f1_score, precision_score, recall_score\n",
    "from sklearn.metrics import classification_report\n",
    "print('LOGISTIC REGRESSION OF UNBALANCED SENTIMENT DATASET\\n')\n",
    "print(f'Mean accuracy of Logistic Regression : {clf_log.score(test_x_vectors, test_y)}')\n",
    "\n",
    "print('Precision Score: ',precision_score(test_y, clf_log.predict(test_x_vectors), average=None,labels=[Sentiment.POSITIVE, Sentiment.NEGATIVE, Sentiment.NEUTRAL]))\n",
    "\n",
    "print('Recall: ', recall_score(test_y, clf_log.predict(test_x_vectors), average=None, labels=[Sentiment.POSITIVE, Sentiment.NEGATIVE, Sentiment.NEUTRAL]))\n",
    "\n",
    "print('Logistic regression f1 score for POS, NEG and NEU :',f1_score(test_y, clf_log.predict(test_x_vectors), average=None, labels=[Sentiment.POSITIVE, Sentiment.NEGATIVE, Sentiment.NEUTRAL]))\n",
    "\n",
    "print(classification_report(test_y, clf_log.predict(test_x_vectors)))"
   ]
  },
  {
   "cell_type": "code",
   "execution_count": 14,
   "metadata": {},
   "outputs": [
    {
     "data": {
      "text/plain": [
       "<AxesSubplot:>"
      ]
     },
     "execution_count": 14,
     "metadata": {},
     "output_type": "execute_result"
    },
    {
     "data": {
      "image/png": "[encoded data removed]",
      "text/plain": [
       "<Figure size 504x360 with 2 Axes>"
      ]
     },
     "metadata": {
      "needs_background": "light"
     },
     "output_type": "display_data"
    }
   ],
   "source": [
    "from sklearn.metrics import confusion_matrix\n",
    "import seaborn as sns\n",
    "import pandas as pd\n",
    "import matplotlib as plt\n",
    "\n",
    "y_pred = clf_log.predict(test_x_vectors)\n",
    "\n",
    "labels = [Sentiment.POSITIVE, Sentiment.NEGATIVE, Sentiment.NEUTRAL]\n",
    "\n",
    "cm = confusion_matrix(test_y, y_pred, labels=labels)\n",
    "df_cm = pd.DataFrame(cm, index=labels, columns=labels)\n",
    "\n",
    "sns.heatmap(df_cm, annot=True, fmt='d')"
   ]
  },
  {
   "cell_type": "markdown",
   "metadata": {},
   "source": [
    "## Random Forest"
   ]
  },
  {
   "cell_type": "code",
   "execution_count": 15,
   "metadata": {},
   "outputs": [
    {
     "name": "stdout",
     "output_type": "stream",
     "text": [
      "CPU times: user 1e+03 ns, sys: 1 µs, total: 2 µs\n",
      "Wall time: 4.77 µs\n",
      "Fitting 5 folds for each of 216 candidates, totalling 1080 fits\n"
     ]
    },
    {
     "name": "stderr",
     "output_type": "stream",
     "text": [
      "[Parallel(n_jobs=-1)]: Using backend LokyBackend with 16 concurrent workers.\n",
      "[Parallel(n_jobs=-1)]: Done  66 tasks      | elapsed:    2.7s\n",
      "[Parallel(n_jobs=-1)]: Done 189 tasks      | elapsed:    5.9s\n",
      "[Parallel(n_jobs=-1)]: Done 360 tasks      | elapsed:   11.5s\n",
      "[Parallel(n_jobs=-1)]: Done 581 tasks      | elapsed:   20.5s\n",
      "[Parallel(n_jobs=-1)]: Done 850 tasks      | elapsed:   39.1s\n",
      "[Parallel(n_jobs=-1)]: Done 1080 out of 1080 | elapsed:  1.1min finished\n"
     ]
    },
    {
     "data": {
      "text/plain": [
       "0.8462500000000001"
      ]
     },
     "execution_count": 15,
     "metadata": {},
     "output_type": "execute_result"
    }
   ],
   "source": [
    "from sklearn.ensemble import RandomForestClassifier\n",
    "from sklearn.model_selection import GridSearchCV\n",
    "\n",
    "%time\n",
    "rf = RandomForestClassifier(random_state=67, criterion=\"gini\", class_weight =\"balanced\")\n",
    "params = {\n",
    "    'max_depth': [1,2,3,5,10,20],\n",
    "    'min_samples_leaf': [1,5,10,25,50,200],\n",
    "    'n_estimators': [10,25,30,50,100,200]\n",
    "}\n",
    "grid_search = GridSearchCV(estimator=rf,\n",
    "                           param_grid=params,\n",
    "                           cv = 5,\n",
    "                           n_jobs=-1, verbose=4, scoring=\"accuracy\")\n",
    "grid_search.fit(train_x_vectors, train_y)\n",
    "grid_search.best_score_ "
   ]
  },
  {
   "cell_type": "code",
   "execution_count": 16,
   "metadata": {},
   "outputs": [
    {
     "name": "stdout",
     "output_type": "stream",
     "text": [
      "RANDOM FOREST OF UNBALANCED SENTIMENT DATASET\n",
      "\n",
      "Mean accuracy of Random Forest : 0.828\n",
      "Precision Score:  [0.85775631 0.63043478 0.31868132]\n",
      "Recall:  [0.97439024 0.18954248 0.14009662]\n",
      "Random Forest f1 score for POS, NEG and NEU : [0.91236083 0.29145729 0.19463087]\n",
      "              precision    recall  f1-score   support\n",
      "\n",
      "    NEGATIVE       0.63      0.19      0.29       153\n",
      "     NEUTRAL       0.32      0.14      0.19       207\n",
      "    POSITIVE       0.86      0.97      0.91      1640\n",
      "\n",
      "    accuracy                           0.83      2000\n",
      "   macro avg       0.60      0.43      0.47      2000\n",
      "weighted avg       0.78      0.83      0.79      2000\n",
      "\n"
     ]
    }
   ],
   "source": [
    "# Calculate Metrics\n",
    "from sklearn.metrics import f1_score, precision_score, recall_score\n",
    "print('RANDOM FOREST OF UNBALANCED SENTIMENT DATASET\\n')\n",
    "print(f'Mean accuracy of Random Forest : {grid_search.score(test_x_vectors, test_y)}')\n",
    "\n",
    "print('Precision Score: ',precision_score(test_y, grid_search.predict(test_x_vectors), average=None,labels=[Sentiment.POSITIVE, Sentiment.NEGATIVE, Sentiment.NEUTRAL]))\n",
    "\n",
    "print('Recall: ', recall_score(test_y, grid_search.predict(test_x_vectors), average=None, labels=[Sentiment.POSITIVE, Sentiment.NEGATIVE, Sentiment.NEUTRAL]))\n",
    "\n",
    "print('Random Forest f1 score for POS, NEG and NEU :',f1_score(test_y, grid_search.predict(test_x_vectors), average=None, labels=[Sentiment.POSITIVE, Sentiment.NEGATIVE, Sentiment.NEUTRAL]))\n",
    "\n",
    "print(classification_report(test_y, grid_search.predict(test_x_vectors)))"
   ]
  },
  {
   "cell_type": "code",
   "execution_count": 17,
   "metadata": {},
   "outputs": [
    {
     "data": {
      "text/plain": [
       "<AxesSubplot:>"
      ]
     },
     "execution_count": 17,
     "metadata": {},
     "output_type": "execute_result"
    },
    {
     "data": {
      "image/png": "[encoded data removed]",
      "text/plain": [
       "<Figure size 504x360 with 2 Axes>"
      ]
     },
     "metadata": {
      "needs_background": "light"
     },
     "output_type": "display_data"
    }
   ],
   "source": [
    "from sklearn.metrics import confusion_matrix\n",
    "import seaborn as sns\n",
    "import pandas as pd\n",
    "import matplotlib as plt\n",
    "\n",
    "y_pred = grid_search.predict(test_x_vectors)\n",
    "\n",
    "labels = [Sentiment.POSITIVE, Sentiment.NEGATIVE, Sentiment.NEUTRAL]\n",
    "\n",
    "cm = confusion_matrix(test_y, y_pred, labels=labels)\n",
    "df_cm = pd.DataFrame(cm, index=labels, columns=labels)\n",
    "\n",
    "sns.heatmap(df_cm, annot=True, fmt='d')"
   ]
  },
  {
   "cell_type": "markdown",
   "metadata": {},
   "source": [
    "# "
   ]
  },
  {
   "cell_type": "markdown",
   "metadata": {},
   "source": [
    "# "
   ]
  },
  {
   "cell_type": "markdown",
   "metadata": {},
   "source": [
    "# "
   ]
  },
  {
   "cell_type": "markdown",
   "metadata": {},
   "source": [
    "# "
   ]
  },
  {
   "cell_type": "markdown",
   "metadata": {},
   "source": [
    "# Removing Data Imbalance"
   ]
  },
  {
   "cell_type": "code",
   "execution_count": 18,
   "metadata": {},
   "outputs": [],
   "source": [
    "class ReviewContainer:\n",
    "    def __init__(self, reviews):\n",
    "        self.reviews = reviews\n",
    "        \n",
    "    def get_text(self):\n",
    "        return [x.text for x in self.reviews]\n",
    "    \n",
    "    def get_sentiment(self):\n",
    "        return [x.sentiment for x in self.reviews]\n",
    "        \n",
    "    def evenly_distribute(self):\n",
    "        negative = list(filter(lambda x: x.sentiment == Sentiment.NEGATIVE, self.reviews))\n",
    "        positive = list(filter(lambda x: x.sentiment == Sentiment.POSITIVE, self.reviews))\n",
    "        neutral = list(filter(lambda x: x.sentiment == Sentiment.NEUTRAL, self.reviews))\n",
    "        positive_shrunk = positive[:len(negative)]\n",
    "        neutral_shrunk = neutral[:len(negative)]\n",
    "        self.reviews = negative + positive_shrunk + neutral_shrunk\n",
    "        np.random.shuffle(self.reviews)"
   ]
  },
  {
   "cell_type": "code",
   "execution_count": 19,
   "metadata": {},
   "outputs": [
    {
     "name": "stdout",
     "output_type": "stream",
     "text": [
      "491\n",
      "491\n",
      "491\n"
     ]
    }
   ],
   "source": [
    "train_container = ReviewContainer(training)\n",
    "test_container = ReviewContainer(test)\n",
    "\n",
    "train_container.evenly_distribute()\n",
    "train_x = train_container.get_text()\n",
    "train_y = train_container.get_sentiment()\n",
    "\n",
    "test_container.evenly_distribute()\n",
    "test_x = test_container.get_text()\n",
    "test_y = test_container.get_sentiment()\n",
    "\n",
    "print(train_y.count(Sentiment.POSITIVE))\n",
    "print(train_y.count(Sentiment.NEGATIVE))\n",
    "print(train_y.count(Sentiment.NEUTRAL))"
   ]
  },
  {
   "cell_type": "markdown",
   "metadata": {},
   "source": [
    "## Pre-Processing"
   ]
  },
  {
   "cell_type": "code",
   "execution_count": 23,
   "metadata": {},
   "outputs": [
    {
     "name": "stderr",
     "output_type": "stream",
     "text": [
      "100%|██████████| 1473/1473 [00:00<00:00, 5529.20it/s]\n"
     ]
    }
   ],
   "source": [
    "#train_x\n",
    "#train_x\n",
    "\n",
    "from tqdm import tqdm\n",
    "from sklearn.model_selection import train_test_split\n",
    "import nltk\n",
    "from nltk import pos_tag, word_tokenize\n",
    "from nltk.tokenize import word_tokenize\n",
    "from nltk.stem import WordNetLemmatizer\n",
    "lemmatizer = WordNetLemmatizer()\n",
    "from bs4 import BeautifulSoup\n",
    "import re\n",
    "\n",
    "def posTag(review):\n",
    "    tagged_text_list=[]\n",
    "    for text in review:\n",
    "        tagged_text_list.append(pos_tag(word_tokenize(text)))\n",
    "    return tagged_text_list\n",
    "\n",
    "def filterTag(tagged_review):\n",
    "    final_text_list=[]\n",
    "    for text_list in tagged_review:\n",
    "        final_text=[]\n",
    "        for word,tag in text_list:\n",
    "            if tag in ['NN','NNS','NNP','NNPS','RB','RBR','RBS','JJ','JJR','JJS','VB','VBD','VBG','VBN','VBP','VBZ']:\n",
    "                final_text.append(word)\n",
    "        final_text_list.append(' '.join(final_text))\n",
    "    return final_text_list\n",
    "\n",
    "def clean_sentences(df):\n",
    "    reviews = []\n",
    "\n",
    "    for sent in tqdm(df):\n",
    "        \n",
    "        #remove html content\n",
    "        review_text = BeautifulSoup(sent).get_text()\n",
    "        \n",
    "        #remove non-alphabetic characters\n",
    "        review_text = re.sub(\"[.,/\\)(!?:;-='_...\"\"@#_]\", \" \", review_text)\n",
    "    \n",
    "        reviews.append(review_text)\n",
    "\n",
    "    return(reviews)\n",
    "\n",
    "train_x = clean_sentences(train_x)\n",
    "train_x = posTag(train_x)\n",
    "train_x = filterTag(train_x)"
   ]
  },
  {
   "cell_type": "code",
   "execution_count": 24,
   "metadata": {},
   "outputs": [
    {
     "name": "stderr",
     "output_type": "stream",
     "text": [
      "100%|██████████| 459/459 [00:00<00:00, 5122.54it/s]\n"
     ]
    }
   ],
   "source": [
    "test_x = clean_sentences(test_x)\n",
    "test_x = posTag(test_x)\n",
    "test_x = filterTag(test_x)"
   ]
  },
  {
   "cell_type": "code",
   "execution_count": 25,
   "metadata": {},
   "outputs": [],
   "source": [
    "# print(train_x)\n",
    "# print(test_x)"
   ]
  },
  {
   "cell_type": "code",
   "execution_count": null,
   "metadata": {},
   "outputs": [],
   "source": []
  },
  {
   "cell_type": "code",
   "execution_count": 26,
   "metadata": {
    "scrolled": true
   },
   "outputs": [
    {
     "name": "stdout",
     "output_type": "stream",
     "text": [
      "Warnings please graphic sex Amazon please come system let customers know are getting\n",
      "[[0. 0. 0. ... 0. 0. 0.]]\n"
     ]
    }
   ],
   "source": [
    "#TF-IDF\n",
    "\n",
    "from sklearn.feature_extraction.text import TfidfVectorizer\n",
    "\n",
    "vectorizer = TfidfVectorizer()\n",
    "train_x_vectors = vectorizer.fit_transform(train_x)\n",
    "\n",
    "test_x_vectors = vectorizer.transform(test_x)\n",
    "\n",
    "print(train_x[0])\n",
    "print(train_x_vectors[0].toarray())"
   ]
  },
  {
   "cell_type": "markdown",
   "metadata": {},
   "source": [
    "## Logistic Regression"
   ]
  },
  {
   "cell_type": "code",
   "execution_count": 27,
   "metadata": {},
   "outputs": [
    {
     "name": "stdout",
     "output_type": "stream",
     "text": [
      "Sample test review : \n",
      " \"am almost finish book great service great book love author Want buy books same Author\"\n",
      "Prediction using naive bayes : POSITIVE\n"
     ]
    }
   ],
   "source": [
    "#classification using logistic regression model\n",
    "\n",
    "from sklearn.linear_model import LogisticRegression\n",
    "\n",
    "clf_log = LogisticRegression()\n",
    "clf_log.fit(train_x_vectors, train_y)\n",
    "\n",
    "print(f'Sample test review : \\n \"{test_x[7]}\"')\n",
    "\n",
    "print('Prediction using naive bayes :', clf_log.predict(test_x_vectors[7])[0])"
   ]
  },
  {
   "cell_type": "code",
   "execution_count": 28,
   "metadata": {
    "scrolled": true
   },
   "outputs": [
    {
     "name": "stdout",
     "output_type": "stream",
     "text": [
      "LOGISTIC REGRESSION OF BALANCED SENTIMENT DATASET\n",
      "\n",
      "Mean accuracy of Logistic Regression : 0.6209150326797386\n",
      "Precision Score:  [0.74657534 0.57988166 0.54166667]\n",
      "Recall:  [0.7124183  0.64052288 0.50980392]\n",
      "Logistic regression f1 score for POS, NEG and NEU : [0.72909699 0.60869565 0.52525253]\n",
      "              precision    recall  f1-score   support\n",
      "\n",
      "    NEGATIVE       0.58      0.64      0.61       153\n",
      "     NEUTRAL       0.54      0.51      0.53       153\n",
      "    POSITIVE       0.75      0.71      0.73       153\n",
      "\n",
      "    accuracy                           0.62       459\n",
      "   macro avg       0.62      0.62      0.62       459\n",
      "weighted avg       0.62      0.62      0.62       459\n",
      "\n"
     ]
    }
   ],
   "source": [
    "# Calculate Metrics\n",
    "from sklearn.metrics import f1_score, precision_score, recall_score\n",
    "print('LOGISTIC REGRESSION OF BALANCED SENTIMENT DATASET\\n')\n",
    "print(f'Mean accuracy of Logistic Regression : {clf_log.score(test_x_vectors, test_y)}')\n",
    "\n",
    "print('Precision Score: ',precision_score(test_y, clf_log.predict(test_x_vectors), average=None,labels=[Sentiment.POSITIVE, Sentiment.NEGATIVE, Sentiment.NEUTRAL]))\n",
    "\n",
    "print('Recall: ', recall_score(test_y, clf_log.predict(test_x_vectors), average=None, labels=[Sentiment.POSITIVE, Sentiment.NEGATIVE, Sentiment.NEUTRAL]))\n",
    "\n",
    "print('Logistic regression f1 score for POS, NEG and NEU :',f1_score(test_y, clf_log.predict(test_x_vectors), average=None, labels=[Sentiment.POSITIVE, Sentiment.NEGATIVE, Sentiment.NEUTRAL]))\n",
    "\n",
    "print(classification_report(test_y, clf_log.predict(test_x_vectors)))"
   ]
  },
  {
   "cell_type": "code",
   "execution_count": 29,
   "metadata": {},
   "outputs": [
    {
     "data": {
      "text/plain": [
       "<AxesSubplot:>"
      ]
     },
     "execution_count": 29,
     "metadata": {},
     "output_type": "execute_result"
    },
    {
     "data": {
      "image/png": "[encoded data removed]",
      "text/plain": [
       "<Figure size 504x360 with 2 Axes>"
      ]
     },
     "metadata": {
      "needs_background": "light"
     },
     "output_type": "display_data"
    }
   ],
   "source": [
    "from sklearn.metrics import confusion_matrix\n",
    "import seaborn as sns\n",
    "import pandas as pd\n",
    "import matplotlib as plt\n",
    "\n",
    "y_pred = clf_log.predict(test_x_vectors)\n",
    "\n",
    "labels = [Sentiment.POSITIVE, Sentiment.NEGATIVE, Sentiment.NEUTRAL]\n",
    "\n",
    "cm = confusion_matrix(test_y, y_pred, labels=labels)\n",
    "df_cm = pd.DataFrame(cm, index=labels, columns=labels)\n",
    "\n",
    "sns.heatmap(df_cm, annot=True, fmt='d')"
   ]
  },
  {
   "cell_type": "code",
   "execution_count": null,
   "metadata": {},
   "outputs": [],
   "source": []
  },
  {
   "cell_type": "markdown",
   "metadata": {},
   "source": [
    "## Random Forest"
   ]
  },
  {
   "cell_type": "code",
   "execution_count": 30,
   "metadata": {
    "scrolled": true
   },
   "outputs": [
    {
     "name": "stdout",
     "output_type": "stream",
     "text": [
      "Fitting 5 folds for each of 216 candidates, totalling 1080 fits\n"
     ]
    },
    {
     "name": "stderr",
     "output_type": "stream",
     "text": [
      "[Parallel(n_jobs=-1)]: Using backend LokyBackend with 16 concurrent workers.\n",
      "[Parallel(n_jobs=-1)]: Done  18 tasks      | elapsed:    0.2s\n",
      "[Parallel(n_jobs=-1)]: Done 304 tasks      | elapsed:    3.9s\n",
      "[Parallel(n_jobs=-1)]: Done 804 tasks      | elapsed:   12.8s\n",
      "[Parallel(n_jobs=-1)]: Done 1049 out of 1080 | elapsed:   18.6s remaining:    0.5s\n",
      "[Parallel(n_jobs=-1)]: Done 1080 out of 1080 | elapsed:   19.2s finished\n"
     ]
    },
    {
     "data": {
      "text/plain": [
       "0.5960567277758562"
      ]
     },
     "execution_count": 30,
     "metadata": {},
     "output_type": "execute_result"
    }
   ],
   "source": [
    "from sklearn.ensemble import RandomForestClassifier\n",
    "from sklearn.model_selection import GridSearchCV\n",
    "rf = RandomForestClassifier(random_state=67, criterion=\"gini\")\n",
    "params = {\n",
    "    'max_depth': [1,2,3,5,10,20],\n",
    "    'min_samples_leaf': [1,5,10,25,50,200],\n",
    "    'n_estimators': [10,25,30,50,100,200]\n",
    "}\n",
    "grid_search = GridSearchCV(estimator=rf,\n",
    "                           param_grid=params,\n",
    "                           cv = 5,\n",
    "                           n_jobs=-1, verbose=1, scoring=\"accuracy\")\n",
    "grid_search.fit(train_x_vectors, train_y)\n",
    "grid_search.best_score_ "
   ]
  },
  {
   "cell_type": "code",
   "execution_count": 31,
   "metadata": {},
   "outputs": [
    {
     "name": "stdout",
     "output_type": "stream",
     "text": [
      "RANDOM FOREST OF BALANCED SENTIMENT DATASET\n",
      "\n",
      "Mean accuracy of Random Forest : 0.5925925925925926\n",
      "Precision Score:  [0.68072289 0.54597701 0.53781513]\n",
      "Recall:  [0.73856209 0.62091503 0.41830065]\n",
      "Random Forest f1 score for POS, NEG and NEU : [0.70846395 0.58103976 0.47058824]\n",
      "              precision    recall  f1-score   support\n",
      "\n",
      "    NEGATIVE       0.55      0.62      0.58       153\n",
      "     NEUTRAL       0.54      0.42      0.47       153\n",
      "    POSITIVE       0.68      0.74      0.71       153\n",
      "\n",
      "    accuracy                           0.59       459\n",
      "   macro avg       0.59      0.59      0.59       459\n",
      "weighted avg       0.59      0.59      0.59       459\n",
      "\n"
     ]
    }
   ],
   "source": [
    "# Calculate Metrics\n",
    "from sklearn.metrics import f1_score, precision_score, recall_score\n",
    "print('RANDOM FOREST OF BALANCED SENTIMENT DATASET\\n')\n",
    "print(f'Mean accuracy of Random Forest : {grid_search.score(test_x_vectors, test_y)}')\n",
    "\n",
    "print('Precision Score: ',precision_score(test_y, grid_search.predict(test_x_vectors), average=None,labels=[Sentiment.POSITIVE, Sentiment.NEGATIVE, Sentiment.NEUTRAL]))\n",
    "\n",
    "print('Recall: ', recall_score(test_y, grid_search.predict(test_x_vectors), average=None, labels=[Sentiment.POSITIVE, Sentiment.NEGATIVE, Sentiment.NEUTRAL]))\n",
    "\n",
    "print('Random Forest f1 score for POS, NEG and NEU :',f1_score(test_y, grid_search.predict(test_x_vectors), average=None, labels=[Sentiment.POSITIVE, Sentiment.NEGATIVE, Sentiment.NEUTRAL]))\n",
    "\n",
    "print(classification_report(test_y, grid_search.predict(test_x_vectors)))\n"
   ]
  },
  {
   "cell_type": "code",
   "execution_count": 32,
   "metadata": {},
   "outputs": [
    {
     "data": {
      "text/plain": [
       "<AxesSubplot:>"
      ]
     },
     "execution_count": 32,
     "metadata": {},
     "output_type": "execute_result"
    },
    {
     "data": {
      "image/png": "[encoded data removed]",
      "text/plain": [
       "<Figure size 504x360 with 2 Axes>"
      ]
     },
     "metadata": {
      "needs_background": "light"
     },
     "output_type": "display_data"
    }
   ],
   "source": [
    "from sklearn.metrics import confusion_matrix\n",
    "import seaborn as sns\n",
    "import pandas as pd\n",
    "import matplotlib as plt\n",
    "\n",
    "y_pred = grid_search.predict(test_x_vectors)\n",
    "\n",
    "labels = [Sentiment.POSITIVE, Sentiment.NEGATIVE, Sentiment.NEUTRAL]\n",
    "\n",
    "cm = confusion_matrix(test_y, y_pred, labels=labels)\n",
    "df_cm = pd.DataFrame(cm, index=labels, columns=labels)\n",
    "\n",
    "sns.heatmap(df_cm, annot=True, fmt='d')"
   ]
  },
  {
   "cell_type": "markdown",
   "metadata": {},
   "source": [
    "## "
   ]
  },
  {
   "cell_type": "markdown",
   "metadata": {},
   "source": [
    "## "
   ]
  }
 ],
 "metadata": {
  "kernelspec": {
   "display_name": "Python 3",
   "language": "python",
   "name": "python3"
  },
  "language_info": {
   "codemirror_mode": {
    "name": "ipython",
    "version": 3
   },
   "file_extension": ".py",
   "mimetype": "text/x-python",
   "name": "python",
   "nbconvert_exporter": "python",
   "pygments_lexer": "ipython3",
   "version": "3.8.5"
  }
 },
 "nbformat": 4,
 "nbformat_minor": 4
}
